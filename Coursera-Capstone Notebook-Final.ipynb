{
 "cells": [
  {
   "cell_type": "markdown",
   "metadata": {},
   "source": [
    "Hello, this notebook will be mainly used for the capstone project."
   ]
  },
  {
   "cell_type": "code",
   "execution_count": 1,
   "metadata": {},
   "outputs": [],
   "source": [
    "import pandas as pd\n",
    "import numpy as np\n",
    "import matplotlib.pyplot as plt\n",
    "\n",
    "plt.rcParams['figure.figsize'] = [11, 4]\n",
    "plt.rcParams['figure.dpi'] = 100\n",
    "\n",
    "import seaborn as sns\n",
    "from sklearn.model_selection import train_test_split\n",
    "from sklearn.linear_model import LogisticRegression\n",
    "from sklearn.dummy import DummyClassifier\n",
    "from sklearn.metrics import accuracy_score, f1_score, recall_score\n",
    "from sklearn.utils import resample\n",
    "from sklearn.ensemble import RandomForestClassifier\n",
    "from sklearn import metrics\n",
    "from sklearn.metrics import f1_score\n",
    "from sklearn.metrics import log_loss\n",
    "from sklearn.metrics import classification_report, confusion_matrix\n",
    "from sklearn.metrics import plot_confusion_matrix\n",
    "from sklearn.metrics import roc_curve, auc\n",
    "from sklearn.preprocessing import label_binarize\n",
    "from sklearn.model_selection import KFold\n",
    "from sklearn.model_selection import cross_val_score\n",
    "from sklearn.neighbors import KNeighborsClassifier\n",
    "import collections"
   ]
  },
  {
   "cell_type": "code",
   "execution_count": 2,
   "metadata": {},
   "outputs": [
    {
     "name": "stdout",
     "output_type": "stream",
     "text": [
      "Hello Capstone Project Course!\n"
     ]
    }
   ],
   "source": [
    "print('Hello Capstone Project Course!')"
   ]
  },
  {
   "cell_type": "markdown",
   "metadata": {},
   "source": [
    "# Car accident severity prediction"
   ]
  },
  {
   "cell_type": "code",
   "execution_count": 3,
   "metadata": {},
   "outputs": [
    {
     "name": "stderr",
     "output_type": "stream",
     "text": [
      "C:\\Users\\javes\\Anaconda3\\envs\\NLP\\lib\\site-packages\\IPython\\core\\interactiveshell.py:3051: DtypeWarning: Columns (33) have mixed types.Specify dtype option on import or set low_memory=False.\n",
      "  interactivity=interactivity, compiler=compiler, result=result)\n"
     ]
    },
    {
     "data": {
      "text/html": [
       "<div>\n",
       "<style scoped>\n",
       "    .dataframe tbody tr th:only-of-type {\n",
       "        vertical-align: middle;\n",
       "    }\n",
       "\n",
       "    .dataframe tbody tr th {\n",
       "        vertical-align: top;\n",
       "    }\n",
       "\n",
       "    .dataframe thead th {\n",
       "        text-align: right;\n",
       "    }\n",
       "</style>\n",
       "<table border=\"1\" class=\"dataframe\">\n",
       "  <thead>\n",
       "    <tr style=\"text-align: right;\">\n",
       "      <th></th>\n",
       "      <th>X</th>\n",
       "      <th>Y</th>\n",
       "      <th>OBJECTID</th>\n",
       "      <th>INCKEY</th>\n",
       "      <th>COLDETKEY</th>\n",
       "      <th>REPORTNO</th>\n",
       "      <th>STATUS</th>\n",
       "      <th>ADDRTYPE</th>\n",
       "      <th>INTKEY</th>\n",
       "      <th>LOCATION</th>\n",
       "      <th>...</th>\n",
       "      <th>ROADCOND</th>\n",
       "      <th>LIGHTCOND</th>\n",
       "      <th>PEDROWNOTGRNT</th>\n",
       "      <th>SDOTCOLNUM</th>\n",
       "      <th>SPEEDING</th>\n",
       "      <th>ST_COLCODE</th>\n",
       "      <th>ST_COLDESC</th>\n",
       "      <th>SEGLANEKEY</th>\n",
       "      <th>CROSSWALKKEY</th>\n",
       "      <th>HITPARKEDCAR</th>\n",
       "    </tr>\n",
       "    <tr>\n",
       "      <th>SEVERITYCODE</th>\n",
       "      <th></th>\n",
       "      <th></th>\n",
       "      <th></th>\n",
       "      <th></th>\n",
       "      <th></th>\n",
       "      <th></th>\n",
       "      <th></th>\n",
       "      <th></th>\n",
       "      <th></th>\n",
       "      <th></th>\n",
       "      <th></th>\n",
       "      <th></th>\n",
       "      <th></th>\n",
       "      <th></th>\n",
       "      <th></th>\n",
       "      <th></th>\n",
       "      <th></th>\n",
       "      <th></th>\n",
       "      <th></th>\n",
       "      <th></th>\n",
       "      <th></th>\n",
       "    </tr>\n",
       "  </thead>\n",
       "  <tbody>\n",
       "    <tr>\n",
       "      <th>2</th>\n",
       "      <td>-122.323148</td>\n",
       "      <td>47.703140</td>\n",
       "      <td>1</td>\n",
       "      <td>1307</td>\n",
       "      <td>1307</td>\n",
       "      <td>3502005</td>\n",
       "      <td>Matched</td>\n",
       "      <td>Intersection</td>\n",
       "      <td>37475.0</td>\n",
       "      <td>5TH AVE NE AND NE 103RD ST</td>\n",
       "      <td>...</td>\n",
       "      <td>Wet</td>\n",
       "      <td>Daylight</td>\n",
       "      <td>NaN</td>\n",
       "      <td>NaN</td>\n",
       "      <td>NaN</td>\n",
       "      <td>10</td>\n",
       "      <td>Entering at angle</td>\n",
       "      <td>0</td>\n",
       "      <td>0</td>\n",
       "      <td>N</td>\n",
       "    </tr>\n",
       "    <tr>\n",
       "      <th>1</th>\n",
       "      <td>-122.347294</td>\n",
       "      <td>47.647172</td>\n",
       "      <td>2</td>\n",
       "      <td>52200</td>\n",
       "      <td>52200</td>\n",
       "      <td>2607959</td>\n",
       "      <td>Matched</td>\n",
       "      <td>Block</td>\n",
       "      <td>NaN</td>\n",
       "      <td>AURORA BR BETWEEN RAYE ST AND BRIDGE WAY N</td>\n",
       "      <td>...</td>\n",
       "      <td>Wet</td>\n",
       "      <td>Dark - Street Lights On</td>\n",
       "      <td>NaN</td>\n",
       "      <td>6354039.0</td>\n",
       "      <td>NaN</td>\n",
       "      <td>11</td>\n",
       "      <td>From same direction - both going straight - bo...</td>\n",
       "      <td>0</td>\n",
       "      <td>0</td>\n",
       "      <td>N</td>\n",
       "    </tr>\n",
       "    <tr>\n",
       "      <th>1</th>\n",
       "      <td>-122.334540</td>\n",
       "      <td>47.607871</td>\n",
       "      <td>3</td>\n",
       "      <td>26700</td>\n",
       "      <td>26700</td>\n",
       "      <td>1482393</td>\n",
       "      <td>Matched</td>\n",
       "      <td>Block</td>\n",
       "      <td>NaN</td>\n",
       "      <td>4TH AVE BETWEEN SENECA ST AND UNIVERSITY ST</td>\n",
       "      <td>...</td>\n",
       "      <td>Dry</td>\n",
       "      <td>Daylight</td>\n",
       "      <td>NaN</td>\n",
       "      <td>4323031.0</td>\n",
       "      <td>NaN</td>\n",
       "      <td>32</td>\n",
       "      <td>One parked--one moving</td>\n",
       "      <td>0</td>\n",
       "      <td>0</td>\n",
       "      <td>N</td>\n",
       "    </tr>\n",
       "    <tr>\n",
       "      <th>1</th>\n",
       "      <td>-122.334803</td>\n",
       "      <td>47.604803</td>\n",
       "      <td>4</td>\n",
       "      <td>1144</td>\n",
       "      <td>1144</td>\n",
       "      <td>3503937</td>\n",
       "      <td>Matched</td>\n",
       "      <td>Block</td>\n",
       "      <td>NaN</td>\n",
       "      <td>2ND AVE BETWEEN MARION ST AND MADISON ST</td>\n",
       "      <td>...</td>\n",
       "      <td>Dry</td>\n",
       "      <td>Daylight</td>\n",
       "      <td>NaN</td>\n",
       "      <td>NaN</td>\n",
       "      <td>NaN</td>\n",
       "      <td>23</td>\n",
       "      <td>From same direction - all others</td>\n",
       "      <td>0</td>\n",
       "      <td>0</td>\n",
       "      <td>N</td>\n",
       "    </tr>\n",
       "    <tr>\n",
       "      <th>2</th>\n",
       "      <td>-122.306426</td>\n",
       "      <td>47.545739</td>\n",
       "      <td>5</td>\n",
       "      <td>17700</td>\n",
       "      <td>17700</td>\n",
       "      <td>1807429</td>\n",
       "      <td>Matched</td>\n",
       "      <td>Intersection</td>\n",
       "      <td>34387.0</td>\n",
       "      <td>SWIFT AVE S AND SWIFT AV OFF RP</td>\n",
       "      <td>...</td>\n",
       "      <td>Wet</td>\n",
       "      <td>Daylight</td>\n",
       "      <td>NaN</td>\n",
       "      <td>4028032.0</td>\n",
       "      <td>NaN</td>\n",
       "      <td>10</td>\n",
       "      <td>Entering at angle</td>\n",
       "      <td>0</td>\n",
       "      <td>0</td>\n",
       "      <td>N</td>\n",
       "    </tr>\n",
       "    <tr>\n",
       "      <th>...</th>\n",
       "      <td>...</td>\n",
       "      <td>...</td>\n",
       "      <td>...</td>\n",
       "      <td>...</td>\n",
       "      <td>...</td>\n",
       "      <td>...</td>\n",
       "      <td>...</td>\n",
       "      <td>...</td>\n",
       "      <td>...</td>\n",
       "      <td>...</td>\n",
       "      <td>...</td>\n",
       "      <td>...</td>\n",
       "      <td>...</td>\n",
       "      <td>...</td>\n",
       "      <td>...</td>\n",
       "      <td>...</td>\n",
       "      <td>...</td>\n",
       "      <td>...</td>\n",
       "      <td>...</td>\n",
       "      <td>...</td>\n",
       "      <td>...</td>\n",
       "    </tr>\n",
       "    <tr>\n",
       "      <th>2</th>\n",
       "      <td>-122.290826</td>\n",
       "      <td>47.565408</td>\n",
       "      <td>219543</td>\n",
       "      <td>309534</td>\n",
       "      <td>310814</td>\n",
       "      <td>E871089</td>\n",
       "      <td>Matched</td>\n",
       "      <td>Block</td>\n",
       "      <td>NaN</td>\n",
       "      <td>34TH AVE S BETWEEN S DAKOTA ST AND S GENESEE ST</td>\n",
       "      <td>...</td>\n",
       "      <td>Dry</td>\n",
       "      <td>Daylight</td>\n",
       "      <td>NaN</td>\n",
       "      <td>NaN</td>\n",
       "      <td>NaN</td>\n",
       "      <td>24</td>\n",
       "      <td>From opposite direction - both moving - head-on</td>\n",
       "      <td>0</td>\n",
       "      <td>0</td>\n",
       "      <td>N</td>\n",
       "    </tr>\n",
       "    <tr>\n",
       "      <th>1</th>\n",
       "      <td>-122.344526</td>\n",
       "      <td>47.690924</td>\n",
       "      <td>219544</td>\n",
       "      <td>309085</td>\n",
       "      <td>310365</td>\n",
       "      <td>E876731</td>\n",
       "      <td>Matched</td>\n",
       "      <td>Block</td>\n",
       "      <td>NaN</td>\n",
       "      <td>AURORA AVE N BETWEEN N 85TH ST AND N 86TH ST</td>\n",
       "      <td>...</td>\n",
       "      <td>Wet</td>\n",
       "      <td>Daylight</td>\n",
       "      <td>NaN</td>\n",
       "      <td>NaN</td>\n",
       "      <td>NaN</td>\n",
       "      <td>13</td>\n",
       "      <td>From same direction - both going straight - bo...</td>\n",
       "      <td>0</td>\n",
       "      <td>0</td>\n",
       "      <td>N</td>\n",
       "    </tr>\n",
       "    <tr>\n",
       "      <th>2</th>\n",
       "      <td>-122.306689</td>\n",
       "      <td>47.683047</td>\n",
       "      <td>219545</td>\n",
       "      <td>311280</td>\n",
       "      <td>312640</td>\n",
       "      <td>3809984</td>\n",
       "      <td>Matched</td>\n",
       "      <td>Intersection</td>\n",
       "      <td>24760.0</td>\n",
       "      <td>20TH AVE NE AND NE 75TH ST</td>\n",
       "      <td>...</td>\n",
       "      <td>Dry</td>\n",
       "      <td>Daylight</td>\n",
       "      <td>NaN</td>\n",
       "      <td>NaN</td>\n",
       "      <td>NaN</td>\n",
       "      <td>28</td>\n",
       "      <td>From opposite direction - one left turn - one ...</td>\n",
       "      <td>0</td>\n",
       "      <td>0</td>\n",
       "      <td>N</td>\n",
       "    </tr>\n",
       "    <tr>\n",
       "      <th>2</th>\n",
       "      <td>-122.355317</td>\n",
       "      <td>47.678734</td>\n",
       "      <td>219546</td>\n",
       "      <td>309514</td>\n",
       "      <td>310794</td>\n",
       "      <td>3810083</td>\n",
       "      <td>Matched</td>\n",
       "      <td>Intersection</td>\n",
       "      <td>24349.0</td>\n",
       "      <td>GREENWOOD AVE N AND N 68TH ST</td>\n",
       "      <td>...</td>\n",
       "      <td>Dry</td>\n",
       "      <td>Dusk</td>\n",
       "      <td>NaN</td>\n",
       "      <td>NaN</td>\n",
       "      <td>NaN</td>\n",
       "      <td>5</td>\n",
       "      <td>Vehicle Strikes Pedalcyclist</td>\n",
       "      <td>4308</td>\n",
       "      <td>0</td>\n",
       "      <td>N</td>\n",
       "    </tr>\n",
       "    <tr>\n",
       "      <th>1</th>\n",
       "      <td>-122.289360</td>\n",
       "      <td>47.611017</td>\n",
       "      <td>219547</td>\n",
       "      <td>308220</td>\n",
       "      <td>309500</td>\n",
       "      <td>E868008</td>\n",
       "      <td>Matched</td>\n",
       "      <td>Block</td>\n",
       "      <td>NaN</td>\n",
       "      <td>34TH AVE BETWEEN E MARION ST AND E SPRING ST</td>\n",
       "      <td>...</td>\n",
       "      <td>Wet</td>\n",
       "      <td>Daylight</td>\n",
       "      <td>NaN</td>\n",
       "      <td>NaN</td>\n",
       "      <td>NaN</td>\n",
       "      <td>14</td>\n",
       "      <td>From same direction - both going straight - on...</td>\n",
       "      <td>0</td>\n",
       "      <td>0</td>\n",
       "      <td>N</td>\n",
       "    </tr>\n",
       "  </tbody>\n",
       "</table>\n",
       "<p>194673 rows × 37 columns</p>\n",
       "</div>"
      ],
      "text/plain": [
       "                       X          Y  OBJECTID  INCKEY  COLDETKEY REPORTNO  \\\n",
       "SEVERITYCODE                                                                \n",
       "2            -122.323148  47.703140         1    1307       1307  3502005   \n",
       "1            -122.347294  47.647172         2   52200      52200  2607959   \n",
       "1            -122.334540  47.607871         3   26700      26700  1482393   \n",
       "1            -122.334803  47.604803         4    1144       1144  3503937   \n",
       "2            -122.306426  47.545739         5   17700      17700  1807429   \n",
       "...                  ...        ...       ...     ...        ...      ...   \n",
       "2            -122.290826  47.565408    219543  309534     310814  E871089   \n",
       "1            -122.344526  47.690924    219544  309085     310365  E876731   \n",
       "2            -122.306689  47.683047    219545  311280     312640  3809984   \n",
       "2            -122.355317  47.678734    219546  309514     310794  3810083   \n",
       "1            -122.289360  47.611017    219547  308220     309500  E868008   \n",
       "\n",
       "               STATUS      ADDRTYPE   INTKEY  \\\n",
       "SEVERITYCODE                                   \n",
       "2             Matched  Intersection  37475.0   \n",
       "1             Matched         Block      NaN   \n",
       "1             Matched         Block      NaN   \n",
       "1             Matched         Block      NaN   \n",
       "2             Matched  Intersection  34387.0   \n",
       "...               ...           ...      ...   \n",
       "2             Matched         Block      NaN   \n",
       "1             Matched         Block      NaN   \n",
       "2             Matched  Intersection  24760.0   \n",
       "2             Matched  Intersection  24349.0   \n",
       "1             Matched         Block      NaN   \n",
       "\n",
       "                                                     LOCATION  ... ROADCOND  \\\n",
       "SEVERITYCODE                                                   ...            \n",
       "2                                  5TH AVE NE AND NE 103RD ST  ...      Wet   \n",
       "1                  AURORA BR BETWEEN RAYE ST AND BRIDGE WAY N  ...      Wet   \n",
       "1                 4TH AVE BETWEEN SENECA ST AND UNIVERSITY ST  ...      Dry   \n",
       "1                    2ND AVE BETWEEN MARION ST AND MADISON ST  ...      Dry   \n",
       "2                             SWIFT AVE S AND SWIFT AV OFF RP  ...      Wet   \n",
       "...                                                       ...  ...      ...   \n",
       "2             34TH AVE S BETWEEN S DAKOTA ST AND S GENESEE ST  ...      Dry   \n",
       "1                AURORA AVE N BETWEEN N 85TH ST AND N 86TH ST  ...      Wet   \n",
       "2                                  20TH AVE NE AND NE 75TH ST  ...      Dry   \n",
       "2                               GREENWOOD AVE N AND N 68TH ST  ...      Dry   \n",
       "1                34TH AVE BETWEEN E MARION ST AND E SPRING ST  ...      Wet   \n",
       "\n",
       "                            LIGHTCOND  PEDROWNOTGRNT SDOTCOLNUM SPEEDING  \\\n",
       "SEVERITYCODE                                                               \n",
       "2                            Daylight            NaN        NaN      NaN   \n",
       "1             Dark - Street Lights On            NaN  6354039.0      NaN   \n",
       "1                            Daylight            NaN  4323031.0      NaN   \n",
       "1                            Daylight            NaN        NaN      NaN   \n",
       "2                            Daylight            NaN  4028032.0      NaN   \n",
       "...                               ...            ...        ...      ...   \n",
       "2                            Daylight            NaN        NaN      NaN   \n",
       "1                            Daylight            NaN        NaN      NaN   \n",
       "2                            Daylight            NaN        NaN      NaN   \n",
       "2                                Dusk            NaN        NaN      NaN   \n",
       "1                            Daylight            NaN        NaN      NaN   \n",
       "\n",
       "              ST_COLCODE                                         ST_COLDESC  \\\n",
       "SEVERITYCODE                                                                  \n",
       "2                     10                                  Entering at angle   \n",
       "1                     11  From same direction - both going straight - bo...   \n",
       "1                     32                             One parked--one moving   \n",
       "1                     23                   From same direction - all others   \n",
       "2                     10                                  Entering at angle   \n",
       "...                  ...                                                ...   \n",
       "2                     24    From opposite direction - both moving - head-on   \n",
       "1                     13  From same direction - both going straight - bo...   \n",
       "2                     28  From opposite direction - one left turn - one ...   \n",
       "2                      5                       Vehicle Strikes Pedalcyclist   \n",
       "1                     14  From same direction - both going straight - on...   \n",
       "\n",
       "              SEGLANEKEY  CROSSWALKKEY HITPARKEDCAR  \n",
       "SEVERITYCODE                                         \n",
       "2                      0             0            N  \n",
       "1                      0             0            N  \n",
       "1                      0             0            N  \n",
       "1                      0             0            N  \n",
       "2                      0             0            N  \n",
       "...                  ...           ...          ...  \n",
       "2                      0             0            N  \n",
       "1                      0             0            N  \n",
       "2                      0             0            N  \n",
       "2                   4308             0            N  \n",
       "1                      0             0            N  \n",
       "\n",
       "[194673 rows x 37 columns]"
      ]
     },
     "execution_count": 3,
     "metadata": {},
     "output_type": "execute_result"
    }
   ],
   "source": [
    "# Read .csv into dataframe:\n",
    "data=pd.read_csv('Data-Collisions.csv')\n",
    "# Set target column as index column:\n",
    "data.set_index('SEVERITYCODE', inplace=True)\n",
    "data"
   ]
  },
  {
   "cell_type": "code",
   "execution_count": 4,
   "metadata": {},
   "outputs": [],
   "source": [
    "# Drop unneeded (for diferent reasons explained in the report) columns:\n",
    "data=data.drop(['X', 'Y', 'SEVERITYCODE.1', 'OBJECTID', 'INCKEY', 'COLDETKEY', 'REPORTNO', 'STATUS', 'ADDRTYPE', 'INTKEY', 'LOCATION', 'EXCEPTRSNCODE', 'EXCEPTRSNDESC', 'SEVERITYDESC', 'PERSONCOUNT', 'INCDATE', 'SDOT_COLCODE', 'SDOT_COLDESC', 'INATTENTIONIND', 'PEDROWNOTGRNT', 'SDOTCOLNUM', 'SPEEDING', 'ST_COLCODE', 'ST_COLDESC', 'SEGLANEKEY', 'CROSSWALKKEY', 'HITPARKEDCAR'], axis=1)"
   ]
  },
  {
   "cell_type": "code",
   "execution_count": 5,
   "metadata": {},
   "outputs": [
    {
     "data": {
      "text/html": [
       "<div>\n",
       "<style scoped>\n",
       "    .dataframe tbody tr th:only-of-type {\n",
       "        vertical-align: middle;\n",
       "    }\n",
       "\n",
       "    .dataframe tbody tr th {\n",
       "        vertical-align: top;\n",
       "    }\n",
       "\n",
       "    .dataframe thead th {\n",
       "        text-align: right;\n",
       "    }\n",
       "</style>\n",
       "<table border=\"1\" class=\"dataframe\">\n",
       "  <thead>\n",
       "    <tr style=\"text-align: right;\">\n",
       "      <th></th>\n",
       "      <th>COLLISIONTYPE</th>\n",
       "      <th>PEDCOUNT</th>\n",
       "      <th>PEDCYLCOUNT</th>\n",
       "      <th>VEHCOUNT</th>\n",
       "      <th>INCDTTM</th>\n",
       "      <th>JUNCTIONTYPE</th>\n",
       "      <th>UNDERINFL</th>\n",
       "      <th>WEATHER</th>\n",
       "      <th>ROADCOND</th>\n",
       "      <th>LIGHTCOND</th>\n",
       "    </tr>\n",
       "    <tr>\n",
       "      <th>SEVERITYCODE</th>\n",
       "      <th></th>\n",
       "      <th></th>\n",
       "      <th></th>\n",
       "      <th></th>\n",
       "      <th></th>\n",
       "      <th></th>\n",
       "      <th></th>\n",
       "      <th></th>\n",
       "      <th></th>\n",
       "      <th></th>\n",
       "    </tr>\n",
       "  </thead>\n",
       "  <tbody>\n",
       "    <tr>\n",
       "      <th>2</th>\n",
       "      <td>Angles</td>\n",
       "      <td>0</td>\n",
       "      <td>0</td>\n",
       "      <td>2</td>\n",
       "      <td>3/27/2013 2:54:00 PM</td>\n",
       "      <td>At Intersection (intersection related)</td>\n",
       "      <td>N</td>\n",
       "      <td>Overcast</td>\n",
       "      <td>Wet</td>\n",
       "      <td>Daylight</td>\n",
       "    </tr>\n",
       "    <tr>\n",
       "      <th>1</th>\n",
       "      <td>Sideswipe</td>\n",
       "      <td>0</td>\n",
       "      <td>0</td>\n",
       "      <td>2</td>\n",
       "      <td>12/20/2006 6:55:00 PM</td>\n",
       "      <td>Mid-Block (not related to intersection)</td>\n",
       "      <td>0</td>\n",
       "      <td>Raining</td>\n",
       "      <td>Wet</td>\n",
       "      <td>Dark - Street Lights On</td>\n",
       "    </tr>\n",
       "    <tr>\n",
       "      <th>1</th>\n",
       "      <td>Parked Car</td>\n",
       "      <td>0</td>\n",
       "      <td>0</td>\n",
       "      <td>3</td>\n",
       "      <td>11/18/2004 10:20:00 AM</td>\n",
       "      <td>Mid-Block (not related to intersection)</td>\n",
       "      <td>0</td>\n",
       "      <td>Overcast</td>\n",
       "      <td>Dry</td>\n",
       "      <td>Daylight</td>\n",
       "    </tr>\n",
       "    <tr>\n",
       "      <th>1</th>\n",
       "      <td>Other</td>\n",
       "      <td>0</td>\n",
       "      <td>0</td>\n",
       "      <td>3</td>\n",
       "      <td>3/29/2013 9:26:00 AM</td>\n",
       "      <td>Mid-Block (not related to intersection)</td>\n",
       "      <td>N</td>\n",
       "      <td>Clear</td>\n",
       "      <td>Dry</td>\n",
       "      <td>Daylight</td>\n",
       "    </tr>\n",
       "    <tr>\n",
       "      <th>2</th>\n",
       "      <td>Angles</td>\n",
       "      <td>0</td>\n",
       "      <td>0</td>\n",
       "      <td>2</td>\n",
       "      <td>1/28/2004 8:04:00 AM</td>\n",
       "      <td>At Intersection (intersection related)</td>\n",
       "      <td>0</td>\n",
       "      <td>Raining</td>\n",
       "      <td>Wet</td>\n",
       "      <td>Daylight</td>\n",
       "    </tr>\n",
       "    <tr>\n",
       "      <th>...</th>\n",
       "      <td>...</td>\n",
       "      <td>...</td>\n",
       "      <td>...</td>\n",
       "      <td>...</td>\n",
       "      <td>...</td>\n",
       "      <td>...</td>\n",
       "      <td>...</td>\n",
       "      <td>...</td>\n",
       "      <td>...</td>\n",
       "      <td>...</td>\n",
       "    </tr>\n",
       "    <tr>\n",
       "      <th>2</th>\n",
       "      <td>Head On</td>\n",
       "      <td>0</td>\n",
       "      <td>0</td>\n",
       "      <td>2</td>\n",
       "      <td>11/12/2018 8:12:00 AM</td>\n",
       "      <td>Mid-Block (not related to intersection)</td>\n",
       "      <td>N</td>\n",
       "      <td>Clear</td>\n",
       "      <td>Dry</td>\n",
       "      <td>Daylight</td>\n",
       "    </tr>\n",
       "    <tr>\n",
       "      <th>1</th>\n",
       "      <td>Rear Ended</td>\n",
       "      <td>0</td>\n",
       "      <td>0</td>\n",
       "      <td>2</td>\n",
       "      <td>12/18/2018 9:14:00 AM</td>\n",
       "      <td>Mid-Block (not related to intersection)</td>\n",
       "      <td>N</td>\n",
       "      <td>Raining</td>\n",
       "      <td>Wet</td>\n",
       "      <td>Daylight</td>\n",
       "    </tr>\n",
       "    <tr>\n",
       "      <th>2</th>\n",
       "      <td>Left Turn</td>\n",
       "      <td>0</td>\n",
       "      <td>0</td>\n",
       "      <td>2</td>\n",
       "      <td>1/19/2019 9:25:00 AM</td>\n",
       "      <td>At Intersection (intersection related)</td>\n",
       "      <td>N</td>\n",
       "      <td>Clear</td>\n",
       "      <td>Dry</td>\n",
       "      <td>Daylight</td>\n",
       "    </tr>\n",
       "    <tr>\n",
       "      <th>2</th>\n",
       "      <td>Cycles</td>\n",
       "      <td>0</td>\n",
       "      <td>1</td>\n",
       "      <td>1</td>\n",
       "      <td>1/15/2019 4:48:00 PM</td>\n",
       "      <td>At Intersection (intersection related)</td>\n",
       "      <td>N</td>\n",
       "      <td>Clear</td>\n",
       "      <td>Dry</td>\n",
       "      <td>Dusk</td>\n",
       "    </tr>\n",
       "    <tr>\n",
       "      <th>1</th>\n",
       "      <td>Rear Ended</td>\n",
       "      <td>0</td>\n",
       "      <td>0</td>\n",
       "      <td>2</td>\n",
       "      <td>11/30/2018 3:45:00 PM</td>\n",
       "      <td>Mid-Block (not related to intersection)</td>\n",
       "      <td>N</td>\n",
       "      <td>Clear</td>\n",
       "      <td>Wet</td>\n",
       "      <td>Daylight</td>\n",
       "    </tr>\n",
       "  </tbody>\n",
       "</table>\n",
       "<p>194673 rows × 10 columns</p>\n",
       "</div>"
      ],
      "text/plain": [
       "             COLLISIONTYPE  PEDCOUNT  PEDCYLCOUNT  VEHCOUNT  \\\n",
       "SEVERITYCODE                                                  \n",
       "2                   Angles         0            0         2   \n",
       "1                Sideswipe         0            0         2   \n",
       "1               Parked Car         0            0         3   \n",
       "1                    Other         0            0         3   \n",
       "2                   Angles         0            0         2   \n",
       "...                    ...       ...          ...       ...   \n",
       "2                  Head On         0            0         2   \n",
       "1               Rear Ended         0            0         2   \n",
       "2                Left Turn         0            0         2   \n",
       "2                   Cycles         0            1         1   \n",
       "1               Rear Ended         0            0         2   \n",
       "\n",
       "                             INCDTTM                             JUNCTIONTYPE  \\\n",
       "SEVERITYCODE                                                                    \n",
       "2               3/27/2013 2:54:00 PM   At Intersection (intersection related)   \n",
       "1              12/20/2006 6:55:00 PM  Mid-Block (not related to intersection)   \n",
       "1             11/18/2004 10:20:00 AM  Mid-Block (not related to intersection)   \n",
       "1               3/29/2013 9:26:00 AM  Mid-Block (not related to intersection)   \n",
       "2               1/28/2004 8:04:00 AM   At Intersection (intersection related)   \n",
       "...                              ...                                      ...   \n",
       "2              11/12/2018 8:12:00 AM  Mid-Block (not related to intersection)   \n",
       "1              12/18/2018 9:14:00 AM  Mid-Block (not related to intersection)   \n",
       "2               1/19/2019 9:25:00 AM   At Intersection (intersection related)   \n",
       "2               1/15/2019 4:48:00 PM   At Intersection (intersection related)   \n",
       "1              11/30/2018 3:45:00 PM  Mid-Block (not related to intersection)   \n",
       "\n",
       "             UNDERINFL   WEATHER ROADCOND                LIGHTCOND  \n",
       "SEVERITYCODE                                                        \n",
       "2                    N  Overcast      Wet                 Daylight  \n",
       "1                    0   Raining      Wet  Dark - Street Lights On  \n",
       "1                    0  Overcast      Dry                 Daylight  \n",
       "1                    N     Clear      Dry                 Daylight  \n",
       "2                    0   Raining      Wet                 Daylight  \n",
       "...                ...       ...      ...                      ...  \n",
       "2                    N     Clear      Dry                 Daylight  \n",
       "1                    N   Raining      Wet                 Daylight  \n",
       "2                    N     Clear      Dry                 Daylight  \n",
       "2                    N     Clear      Dry                     Dusk  \n",
       "1                    N     Clear      Wet                 Daylight  \n",
       "\n",
       "[194673 rows x 10 columns]"
      ]
     },
     "execution_count": 5,
     "metadata": {},
     "output_type": "execute_result"
    }
   ],
   "source": [
    "data"
   ]
  },
  {
   "cell_type": "code",
   "execution_count": 6,
   "metadata": {
    "scrolled": true
   },
   "outputs": [],
   "source": [
    "# Drop any row with blank entries in any of their columns:\n",
    "data=data.dropna()"
   ]
  },
  {
   "cell_type": "code",
   "execution_count": 7,
   "metadata": {},
   "outputs": [
    {
     "data": {
      "text/html": [
       "<div>\n",
       "<style scoped>\n",
       "    .dataframe tbody tr th:only-of-type {\n",
       "        vertical-align: middle;\n",
       "    }\n",
       "\n",
       "    .dataframe tbody tr th {\n",
       "        vertical-align: top;\n",
       "    }\n",
       "\n",
       "    .dataframe thead th {\n",
       "        text-align: right;\n",
       "    }\n",
       "</style>\n",
       "<table border=\"1\" class=\"dataframe\">\n",
       "  <thead>\n",
       "    <tr style=\"text-align: right;\">\n",
       "      <th></th>\n",
       "      <th>COLLISIONTYPE</th>\n",
       "      <th>PEDCOUNT</th>\n",
       "      <th>PEDCYLCOUNT</th>\n",
       "      <th>VEHCOUNT</th>\n",
       "      <th>INCDTTM</th>\n",
       "      <th>JUNCTIONTYPE</th>\n",
       "      <th>UNDERINFL</th>\n",
       "      <th>WEATHER</th>\n",
       "      <th>ROADCOND</th>\n",
       "      <th>LIGHTCOND</th>\n",
       "    </tr>\n",
       "    <tr>\n",
       "      <th>SEVERITYCODE</th>\n",
       "      <th></th>\n",
       "      <th></th>\n",
       "      <th></th>\n",
       "      <th></th>\n",
       "      <th></th>\n",
       "      <th></th>\n",
       "      <th></th>\n",
       "      <th></th>\n",
       "      <th></th>\n",
       "      <th></th>\n",
       "    </tr>\n",
       "  </thead>\n",
       "  <tbody>\n",
       "    <tr>\n",
       "      <th>2</th>\n",
       "      <td>Angles</td>\n",
       "      <td>0</td>\n",
       "      <td>0</td>\n",
       "      <td>2</td>\n",
       "      <td>3/27/2013 2:54:00 PM</td>\n",
       "      <td>At Intersection (intersection related)</td>\n",
       "      <td>N</td>\n",
       "      <td>Overcast</td>\n",
       "      <td>Wet</td>\n",
       "      <td>Daylight</td>\n",
       "    </tr>\n",
       "    <tr>\n",
       "      <th>1</th>\n",
       "      <td>Sideswipe</td>\n",
       "      <td>0</td>\n",
       "      <td>0</td>\n",
       "      <td>2</td>\n",
       "      <td>12/20/2006 6:55:00 PM</td>\n",
       "      <td>Mid-Block (not related to intersection)</td>\n",
       "      <td>0</td>\n",
       "      <td>Raining</td>\n",
       "      <td>Wet</td>\n",
       "      <td>Dark - Street Lights On</td>\n",
       "    </tr>\n",
       "    <tr>\n",
       "      <th>1</th>\n",
       "      <td>Parked Car</td>\n",
       "      <td>0</td>\n",
       "      <td>0</td>\n",
       "      <td>3</td>\n",
       "      <td>11/18/2004 10:20:00 AM</td>\n",
       "      <td>Mid-Block (not related to intersection)</td>\n",
       "      <td>0</td>\n",
       "      <td>Overcast</td>\n",
       "      <td>Dry</td>\n",
       "      <td>Daylight</td>\n",
       "    </tr>\n",
       "    <tr>\n",
       "      <th>1</th>\n",
       "      <td>Other</td>\n",
       "      <td>0</td>\n",
       "      <td>0</td>\n",
       "      <td>3</td>\n",
       "      <td>3/29/2013 9:26:00 AM</td>\n",
       "      <td>Mid-Block (not related to intersection)</td>\n",
       "      <td>N</td>\n",
       "      <td>Clear</td>\n",
       "      <td>Dry</td>\n",
       "      <td>Daylight</td>\n",
       "    </tr>\n",
       "    <tr>\n",
       "      <th>2</th>\n",
       "      <td>Angles</td>\n",
       "      <td>0</td>\n",
       "      <td>0</td>\n",
       "      <td>2</td>\n",
       "      <td>1/28/2004 8:04:00 AM</td>\n",
       "      <td>At Intersection (intersection related)</td>\n",
       "      <td>0</td>\n",
       "      <td>Raining</td>\n",
       "      <td>Wet</td>\n",
       "      <td>Daylight</td>\n",
       "    </tr>\n",
       "    <tr>\n",
       "      <th>...</th>\n",
       "      <td>...</td>\n",
       "      <td>...</td>\n",
       "      <td>...</td>\n",
       "      <td>...</td>\n",
       "      <td>...</td>\n",
       "      <td>...</td>\n",
       "      <td>...</td>\n",
       "      <td>...</td>\n",
       "      <td>...</td>\n",
       "      <td>...</td>\n",
       "    </tr>\n",
       "    <tr>\n",
       "      <th>2</th>\n",
       "      <td>Head On</td>\n",
       "      <td>0</td>\n",
       "      <td>0</td>\n",
       "      <td>2</td>\n",
       "      <td>11/12/2018 8:12:00 AM</td>\n",
       "      <td>Mid-Block (not related to intersection)</td>\n",
       "      <td>N</td>\n",
       "      <td>Clear</td>\n",
       "      <td>Dry</td>\n",
       "      <td>Daylight</td>\n",
       "    </tr>\n",
       "    <tr>\n",
       "      <th>1</th>\n",
       "      <td>Rear Ended</td>\n",
       "      <td>0</td>\n",
       "      <td>0</td>\n",
       "      <td>2</td>\n",
       "      <td>12/18/2018 9:14:00 AM</td>\n",
       "      <td>Mid-Block (not related to intersection)</td>\n",
       "      <td>N</td>\n",
       "      <td>Raining</td>\n",
       "      <td>Wet</td>\n",
       "      <td>Daylight</td>\n",
       "    </tr>\n",
       "    <tr>\n",
       "      <th>2</th>\n",
       "      <td>Left Turn</td>\n",
       "      <td>0</td>\n",
       "      <td>0</td>\n",
       "      <td>2</td>\n",
       "      <td>1/19/2019 9:25:00 AM</td>\n",
       "      <td>At Intersection (intersection related)</td>\n",
       "      <td>N</td>\n",
       "      <td>Clear</td>\n",
       "      <td>Dry</td>\n",
       "      <td>Daylight</td>\n",
       "    </tr>\n",
       "    <tr>\n",
       "      <th>2</th>\n",
       "      <td>Cycles</td>\n",
       "      <td>0</td>\n",
       "      <td>1</td>\n",
       "      <td>1</td>\n",
       "      <td>1/15/2019 4:48:00 PM</td>\n",
       "      <td>At Intersection (intersection related)</td>\n",
       "      <td>N</td>\n",
       "      <td>Clear</td>\n",
       "      <td>Dry</td>\n",
       "      <td>Dusk</td>\n",
       "    </tr>\n",
       "    <tr>\n",
       "      <th>1</th>\n",
       "      <td>Rear Ended</td>\n",
       "      <td>0</td>\n",
       "      <td>0</td>\n",
       "      <td>2</td>\n",
       "      <td>11/30/2018 3:45:00 PM</td>\n",
       "      <td>Mid-Block (not related to intersection)</td>\n",
       "      <td>N</td>\n",
       "      <td>Clear</td>\n",
       "      <td>Wet</td>\n",
       "      <td>Daylight</td>\n",
       "    </tr>\n",
       "  </tbody>\n",
       "</table>\n",
       "<p>183177 rows × 10 columns</p>\n",
       "</div>"
      ],
      "text/plain": [
       "             COLLISIONTYPE  PEDCOUNT  PEDCYLCOUNT  VEHCOUNT  \\\n",
       "SEVERITYCODE                                                  \n",
       "2                   Angles         0            0         2   \n",
       "1                Sideswipe         0            0         2   \n",
       "1               Parked Car         0            0         3   \n",
       "1                    Other         0            0         3   \n",
       "2                   Angles         0            0         2   \n",
       "...                    ...       ...          ...       ...   \n",
       "2                  Head On         0            0         2   \n",
       "1               Rear Ended         0            0         2   \n",
       "2                Left Turn         0            0         2   \n",
       "2                   Cycles         0            1         1   \n",
       "1               Rear Ended         0            0         2   \n",
       "\n",
       "                             INCDTTM                             JUNCTIONTYPE  \\\n",
       "SEVERITYCODE                                                                    \n",
       "2               3/27/2013 2:54:00 PM   At Intersection (intersection related)   \n",
       "1              12/20/2006 6:55:00 PM  Mid-Block (not related to intersection)   \n",
       "1             11/18/2004 10:20:00 AM  Mid-Block (not related to intersection)   \n",
       "1               3/29/2013 9:26:00 AM  Mid-Block (not related to intersection)   \n",
       "2               1/28/2004 8:04:00 AM   At Intersection (intersection related)   \n",
       "...                              ...                                      ...   \n",
       "2              11/12/2018 8:12:00 AM  Mid-Block (not related to intersection)   \n",
       "1              12/18/2018 9:14:00 AM  Mid-Block (not related to intersection)   \n",
       "2               1/19/2019 9:25:00 AM   At Intersection (intersection related)   \n",
       "2               1/15/2019 4:48:00 PM   At Intersection (intersection related)   \n",
       "1              11/30/2018 3:45:00 PM  Mid-Block (not related to intersection)   \n",
       "\n",
       "             UNDERINFL   WEATHER ROADCOND                LIGHTCOND  \n",
       "SEVERITYCODE                                                        \n",
       "2                    N  Overcast      Wet                 Daylight  \n",
       "1                    0   Raining      Wet  Dark - Street Lights On  \n",
       "1                    0  Overcast      Dry                 Daylight  \n",
       "1                    N     Clear      Dry                 Daylight  \n",
       "2                    0   Raining      Wet                 Daylight  \n",
       "...                ...       ...      ...                      ...  \n",
       "2                    N     Clear      Dry                 Daylight  \n",
       "1                    N   Raining      Wet                 Daylight  \n",
       "2                    N     Clear      Dry                 Daylight  \n",
       "2                    N     Clear      Dry                     Dusk  \n",
       "1                    N     Clear      Wet                 Daylight  \n",
       "\n",
       "[183177 rows x 10 columns]"
      ]
     },
     "execution_count": 7,
     "metadata": {},
     "output_type": "execute_result"
    }
   ],
   "source": [
    "data"
   ]
  },
  {
   "cell_type": "code",
   "execution_count": 8,
   "metadata": {},
   "outputs": [
    {
     "data": {
      "text/plain": [
       "N    95132\n",
       "0    79043\n",
       "Y     5024\n",
       "1     3978\n",
       "Name: UNDERINFL, dtype: int64"
      ]
     },
     "execution_count": 8,
     "metadata": {},
     "output_type": "execute_result"
    }
   ],
   "source": [
    "# Colummn called \"UNDERINFL\" seems to have different entries for the same information (0=N, 1=Y):\n",
    "data.UNDERINFL.value_counts()"
   ]
  },
  {
   "cell_type": "code",
   "execution_count": 9,
   "metadata": {},
   "outputs": [
    {
     "name": "stderr",
     "output_type": "stream",
     "text": [
      "C:\\Users\\javes\\Anaconda3\\envs\\NLP\\lib\\site-packages\\ipykernel_launcher.py:2: SettingWithCopyWarning: \n",
      "A value is trying to be set on a copy of a slice from a DataFrame.\n",
      "Try using .loc[row_indexer,col_indexer] = value instead\n",
      "\n",
      "See the caveats in the documentation: https://pandas.pydata.org/pandas-docs/stable/user_guide/indexing.html#returning-a-view-versus-a-copy\n",
      "  \n",
      "C:\\Users\\javes\\Anaconda3\\envs\\NLP\\lib\\site-packages\\ipykernel_launcher.py:3: SettingWithCopyWarning: \n",
      "A value is trying to be set on a copy of a slice from a DataFrame.\n",
      "Try using .loc[row_indexer,col_indexer] = value instead\n",
      "\n",
      "See the caveats in the documentation: https://pandas.pydata.org/pandas-docs/stable/user_guide/indexing.html#returning-a-view-versus-a-copy\n",
      "  This is separate from the ipykernel package so we can avoid doing imports until\n"
     ]
    }
   ],
   "source": [
    "# Let's fix it:\n",
    "data['UNDERINFL'] = data['UNDERINFL'].str.replace('0','N')\n",
    "data['UNDERINFL'] = data['UNDERINFL'].str.replace('1','Y')        "
   ]
  },
  {
   "cell_type": "code",
   "execution_count": 10,
   "metadata": {},
   "outputs": [
    {
     "data": {
      "text/plain": [
       "N    174175\n",
       "Y      9002\n",
       "Name: UNDERINFL, dtype: int64"
      ]
     },
     "execution_count": 10,
     "metadata": {},
     "output_type": "execute_result"
    }
   ],
   "source": [
    "data.UNDERINFL.value_counts()"
   ]
  },
  {
   "cell_type": "code",
   "execution_count": 11,
   "metadata": {},
   "outputs": [
    {
     "data": {
      "text/plain": [
       "Parked Car    43272\n",
       "Angles        34464\n",
       "Rear Ended    33683\n",
       "Other         22999\n",
       "Sideswipe     18312\n",
       "Left Turn     13641\n",
       "Pedestrian     6515\n",
       "Cycles         5365\n",
       "Right Turn     2930\n",
       "Head On        1996\n",
       "Name: COLLISIONTYPE, dtype: int64"
      ]
     },
     "execution_count": 11,
     "metadata": {},
     "output_type": "execute_result"
    }
   ],
   "source": [
    "# Fixed!\n",
    "# Now, the column 'COLLISIONTYPE' has some entries with the value 'Other'.\n",
    "data.COLLISIONTYPE.value_counts()"
   ]
  },
  {
   "cell_type": "code",
   "execution_count": 12,
   "metadata": {},
   "outputs": [
    {
     "data": {
      "text/plain": [
       "Parked Car    43272\n",
       "Angles        34464\n",
       "Rear Ended    33683\n",
       "Sideswipe     18312\n",
       "Left Turn     13641\n",
       "Pedestrian     6515\n",
       "Cycles         5365\n",
       "Right Turn     2930\n",
       "Head On        1996\n",
       "Name: COLLISIONTYPE, dtype: int64"
      ]
     },
     "execution_count": 12,
     "metadata": {},
     "output_type": "execute_result"
    }
   ],
   "source": [
    "# We are going to drop those rows:\n",
    "data = data[data.COLLISIONTYPE != 'Other']\n",
    "data.COLLISIONTYPE.value_counts()"
   ]
  },
  {
   "cell_type": "code",
   "execution_count": 13,
   "metadata": {},
   "outputs": [
    {
     "data": {
      "text/plain": [
       "Mid-Block (not related to intersection)              74453\n",
       "At Intersection (intersection related)               57759\n",
       "Mid-Block (but intersection related)                 19228\n",
       "Driveway Junction                                     6791\n",
       "At Intersection (but not related to intersection)     1812\n",
       "Ramp Junction                                          130\n",
       "Unknown                                                  5\n",
       "Name: JUNCTIONTYPE, dtype: int64"
      ]
     },
     "execution_count": 13,
     "metadata": {},
     "output_type": "execute_result"
    }
   ],
   "source": [
    "data.JUNCTIONTYPE.value_counts()"
   ]
  },
  {
   "cell_type": "code",
   "execution_count": 14,
   "metadata": {
    "scrolled": false
   },
   "outputs": [
    {
     "data": {
      "text/plain": [
       "Mid-Block (NRI)          74453\n",
       "At Intersection (RI)     57759\n",
       "Mid-Block (RI)           19228\n",
       "Driveway Junction         6791\n",
       "At Intersection (NRI)     1812\n",
       "Ramp Junction              130\n",
       "Name: JUNCTIONTYPE, dtype: int64"
      ]
     },
     "execution_count": 14,
     "metadata": {},
     "output_type": "execute_result"
    }
   ],
   "source": [
    "data = data[data.JUNCTIONTYPE != 'Unknown']\n",
    "data['JUNCTIONTYPE'] = data['JUNCTIONTYPE'].str.replace('but not related to intersection','NRI')\n",
    "data['JUNCTIONTYPE'] = data['JUNCTIONTYPE'].str.replace('not related to intersection','NRI')\n",
    "data['JUNCTIONTYPE'] = data['JUNCTIONTYPE'].str.replace('but intersection related','RI')\n",
    "data['JUNCTIONTYPE'] = data['JUNCTIONTYPE'].str.replace('intersection related','RI')\n",
    "data.JUNCTIONTYPE.value_counts()"
   ]
  },
  {
   "cell_type": "code",
   "execution_count": 15,
   "metadata": {},
   "outputs": [],
   "source": [
    "data['INCDTTM']=pd.to_datetime(data.INCDTTM)\n",
    "data['TIME'] = data['INCDTTM'].dt.strftime('%H')\n",
    "data['DAY_OF_WEEK'] = data['INCDTTM'].dt.day_name()\n",
    "data['MONTH'] = data['INCDTTM'].dt.month_name()"
   ]
  },
  {
   "cell_type": "code",
   "execution_count": 16,
   "metadata": {},
   "outputs": [
    {
     "data": {
      "text/html": [
       "<div>\n",
       "<style scoped>\n",
       "    .dataframe tbody tr th:only-of-type {\n",
       "        vertical-align: middle;\n",
       "    }\n",
       "\n",
       "    .dataframe tbody tr th {\n",
       "        vertical-align: top;\n",
       "    }\n",
       "\n",
       "    .dataframe thead th {\n",
       "        text-align: right;\n",
       "    }\n",
       "</style>\n",
       "<table border=\"1\" class=\"dataframe\">\n",
       "  <thead>\n",
       "    <tr style=\"text-align: right;\">\n",
       "      <th></th>\n",
       "      <th>COLLISIONTYPE</th>\n",
       "      <th>PEDCOUNT</th>\n",
       "      <th>PEDCYLCOUNT</th>\n",
       "      <th>VEHCOUNT</th>\n",
       "      <th>INCDTTM</th>\n",
       "      <th>JUNCTIONTYPE</th>\n",
       "      <th>UNDERINFL</th>\n",
       "      <th>WEATHER</th>\n",
       "      <th>ROADCOND</th>\n",
       "      <th>LIGHTCOND</th>\n",
       "      <th>TIME</th>\n",
       "      <th>DAY_OF_WEEK</th>\n",
       "      <th>MONTH</th>\n",
       "    </tr>\n",
       "    <tr>\n",
       "      <th>SEVERITYCODE</th>\n",
       "      <th></th>\n",
       "      <th></th>\n",
       "      <th></th>\n",
       "      <th></th>\n",
       "      <th></th>\n",
       "      <th></th>\n",
       "      <th></th>\n",
       "      <th></th>\n",
       "      <th></th>\n",
       "      <th></th>\n",
       "      <th></th>\n",
       "      <th></th>\n",
       "      <th></th>\n",
       "    </tr>\n",
       "  </thead>\n",
       "  <tbody>\n",
       "    <tr>\n",
       "      <th>2</th>\n",
       "      <td>Angles</td>\n",
       "      <td>0</td>\n",
       "      <td>0</td>\n",
       "      <td>2</td>\n",
       "      <td>2013-03-27 14:54:00</td>\n",
       "      <td>At Intersection (RI)</td>\n",
       "      <td>N</td>\n",
       "      <td>Overcast</td>\n",
       "      <td>Wet</td>\n",
       "      <td>Daylight</td>\n",
       "      <td>14</td>\n",
       "      <td>Wednesday</td>\n",
       "      <td>March</td>\n",
       "    </tr>\n",
       "    <tr>\n",
       "      <th>1</th>\n",
       "      <td>Sideswipe</td>\n",
       "      <td>0</td>\n",
       "      <td>0</td>\n",
       "      <td>2</td>\n",
       "      <td>2006-12-20 18:55:00</td>\n",
       "      <td>Mid-Block (NRI)</td>\n",
       "      <td>N</td>\n",
       "      <td>Raining</td>\n",
       "      <td>Wet</td>\n",
       "      <td>Dark - Street Lights On</td>\n",
       "      <td>18</td>\n",
       "      <td>Wednesday</td>\n",
       "      <td>December</td>\n",
       "    </tr>\n",
       "    <tr>\n",
       "      <th>1</th>\n",
       "      <td>Parked Car</td>\n",
       "      <td>0</td>\n",
       "      <td>0</td>\n",
       "      <td>3</td>\n",
       "      <td>2004-11-18 10:20:00</td>\n",
       "      <td>Mid-Block (NRI)</td>\n",
       "      <td>N</td>\n",
       "      <td>Overcast</td>\n",
       "      <td>Dry</td>\n",
       "      <td>Daylight</td>\n",
       "      <td>10</td>\n",
       "      <td>Thursday</td>\n",
       "      <td>November</td>\n",
       "    </tr>\n",
       "    <tr>\n",
       "      <th>2</th>\n",
       "      <td>Angles</td>\n",
       "      <td>0</td>\n",
       "      <td>0</td>\n",
       "      <td>2</td>\n",
       "      <td>2004-01-28 08:04:00</td>\n",
       "      <td>At Intersection (RI)</td>\n",
       "      <td>N</td>\n",
       "      <td>Raining</td>\n",
       "      <td>Wet</td>\n",
       "      <td>Daylight</td>\n",
       "      <td>08</td>\n",
       "      <td>Wednesday</td>\n",
       "      <td>January</td>\n",
       "    </tr>\n",
       "    <tr>\n",
       "      <th>1</th>\n",
       "      <td>Angles</td>\n",
       "      <td>0</td>\n",
       "      <td>0</td>\n",
       "      <td>2</td>\n",
       "      <td>2019-04-20 17:42:00</td>\n",
       "      <td>At Intersection (RI)</td>\n",
       "      <td>N</td>\n",
       "      <td>Clear</td>\n",
       "      <td>Dry</td>\n",
       "      <td>Daylight</td>\n",
       "      <td>17</td>\n",
       "      <td>Saturday</td>\n",
       "      <td>April</td>\n",
       "    </tr>\n",
       "    <tr>\n",
       "      <th>...</th>\n",
       "      <td>...</td>\n",
       "      <td>...</td>\n",
       "      <td>...</td>\n",
       "      <td>...</td>\n",
       "      <td>...</td>\n",
       "      <td>...</td>\n",
       "      <td>...</td>\n",
       "      <td>...</td>\n",
       "      <td>...</td>\n",
       "      <td>...</td>\n",
       "      <td>...</td>\n",
       "      <td>...</td>\n",
       "      <td>...</td>\n",
       "    </tr>\n",
       "    <tr>\n",
       "      <th>2</th>\n",
       "      <td>Head On</td>\n",
       "      <td>0</td>\n",
       "      <td>0</td>\n",
       "      <td>2</td>\n",
       "      <td>2018-11-12 08:12:00</td>\n",
       "      <td>Mid-Block (NRI)</td>\n",
       "      <td>N</td>\n",
       "      <td>Clear</td>\n",
       "      <td>Dry</td>\n",
       "      <td>Daylight</td>\n",
       "      <td>08</td>\n",
       "      <td>Monday</td>\n",
       "      <td>November</td>\n",
       "    </tr>\n",
       "    <tr>\n",
       "      <th>1</th>\n",
       "      <td>Rear Ended</td>\n",
       "      <td>0</td>\n",
       "      <td>0</td>\n",
       "      <td>2</td>\n",
       "      <td>2018-12-18 09:14:00</td>\n",
       "      <td>Mid-Block (NRI)</td>\n",
       "      <td>N</td>\n",
       "      <td>Raining</td>\n",
       "      <td>Wet</td>\n",
       "      <td>Daylight</td>\n",
       "      <td>09</td>\n",
       "      <td>Tuesday</td>\n",
       "      <td>December</td>\n",
       "    </tr>\n",
       "    <tr>\n",
       "      <th>2</th>\n",
       "      <td>Left Turn</td>\n",
       "      <td>0</td>\n",
       "      <td>0</td>\n",
       "      <td>2</td>\n",
       "      <td>2019-01-19 09:25:00</td>\n",
       "      <td>At Intersection (RI)</td>\n",
       "      <td>N</td>\n",
       "      <td>Clear</td>\n",
       "      <td>Dry</td>\n",
       "      <td>Daylight</td>\n",
       "      <td>09</td>\n",
       "      <td>Saturday</td>\n",
       "      <td>January</td>\n",
       "    </tr>\n",
       "    <tr>\n",
       "      <th>2</th>\n",
       "      <td>Cycles</td>\n",
       "      <td>0</td>\n",
       "      <td>1</td>\n",
       "      <td>1</td>\n",
       "      <td>2019-01-15 16:48:00</td>\n",
       "      <td>At Intersection (RI)</td>\n",
       "      <td>N</td>\n",
       "      <td>Clear</td>\n",
       "      <td>Dry</td>\n",
       "      <td>Dusk</td>\n",
       "      <td>16</td>\n",
       "      <td>Tuesday</td>\n",
       "      <td>January</td>\n",
       "    </tr>\n",
       "    <tr>\n",
       "      <th>1</th>\n",
       "      <td>Rear Ended</td>\n",
       "      <td>0</td>\n",
       "      <td>0</td>\n",
       "      <td>2</td>\n",
       "      <td>2018-11-30 15:45:00</td>\n",
       "      <td>Mid-Block (NRI)</td>\n",
       "      <td>N</td>\n",
       "      <td>Clear</td>\n",
       "      <td>Wet</td>\n",
       "      <td>Daylight</td>\n",
       "      <td>15</td>\n",
       "      <td>Friday</td>\n",
       "      <td>November</td>\n",
       "    </tr>\n",
       "  </tbody>\n",
       "</table>\n",
       "<p>160173 rows × 13 columns</p>\n",
       "</div>"
      ],
      "text/plain": [
       "             COLLISIONTYPE  PEDCOUNT  PEDCYLCOUNT  VEHCOUNT  \\\n",
       "SEVERITYCODE                                                  \n",
       "2                   Angles         0            0         2   \n",
       "1                Sideswipe         0            0         2   \n",
       "1               Parked Car         0            0         3   \n",
       "2                   Angles         0            0         2   \n",
       "1                   Angles         0            0         2   \n",
       "...                    ...       ...          ...       ...   \n",
       "2                  Head On         0            0         2   \n",
       "1               Rear Ended         0            0         2   \n",
       "2                Left Turn         0            0         2   \n",
       "2                   Cycles         0            1         1   \n",
       "1               Rear Ended         0            0         2   \n",
       "\n",
       "                         INCDTTM          JUNCTIONTYPE UNDERINFL   WEATHER  \\\n",
       "SEVERITYCODE                                                                 \n",
       "2            2013-03-27 14:54:00  At Intersection (RI)         N  Overcast   \n",
       "1            2006-12-20 18:55:00       Mid-Block (NRI)         N   Raining   \n",
       "1            2004-11-18 10:20:00       Mid-Block (NRI)         N  Overcast   \n",
       "2            2004-01-28 08:04:00  At Intersection (RI)         N   Raining   \n",
       "1            2019-04-20 17:42:00  At Intersection (RI)         N     Clear   \n",
       "...                          ...                   ...       ...       ...   \n",
       "2            2018-11-12 08:12:00       Mid-Block (NRI)         N     Clear   \n",
       "1            2018-12-18 09:14:00       Mid-Block (NRI)         N   Raining   \n",
       "2            2019-01-19 09:25:00  At Intersection (RI)         N     Clear   \n",
       "2            2019-01-15 16:48:00  At Intersection (RI)         N     Clear   \n",
       "1            2018-11-30 15:45:00       Mid-Block (NRI)         N     Clear   \n",
       "\n",
       "             ROADCOND                LIGHTCOND TIME DAY_OF_WEEK     MONTH  \n",
       "SEVERITYCODE                                                               \n",
       "2                 Wet                 Daylight   14   Wednesday     March  \n",
       "1                 Wet  Dark - Street Lights On   18   Wednesday  December  \n",
       "1                 Dry                 Daylight   10    Thursday  November  \n",
       "2                 Wet                 Daylight   08   Wednesday   January  \n",
       "1                 Dry                 Daylight   17    Saturday     April  \n",
       "...               ...                      ...  ...         ...       ...  \n",
       "2                 Dry                 Daylight   08      Monday  November  \n",
       "1                 Wet                 Daylight   09     Tuesday  December  \n",
       "2                 Dry                 Daylight   09    Saturday   January  \n",
       "2                 Dry                     Dusk   16     Tuesday   January  \n",
       "1                 Wet                 Daylight   15      Friday  November  \n",
       "\n",
       "[160173 rows x 13 columns]"
      ]
     },
     "execution_count": 16,
     "metadata": {},
     "output_type": "execute_result"
    }
   ],
   "source": [
    "data"
   ]
  },
  {
   "cell_type": "code",
   "execution_count": 17,
   "metadata": {},
   "outputs": [
    {
     "data": {
      "text/plain": [
       "(array([    0.,  2000.,  4000.,  6000.,  8000., 10000., 12000., 14000.,\n",
       "        16000.]), <a list of 9 Text yticklabel objects>)"
      ]
     },
     "execution_count": 17,
     "metadata": {},
     "output_type": "execute_result"
    },
    {
     "data": {
      "image/png": "[encoded data removed]",
      "text/plain": [
       "<Figure size 1100x400 with 1 Axes>"
      ]
     },
     "metadata": {
      "needs_background": "light"
     },
     "output_type": "display_data"
    }
   ],
   "source": [
    "data.MONTH.value_counts().plot.bar(width=0.75)\n",
    "plt.xticks(size = 8)\n",
    "plt.yticks(size = 8)"
   ]
  },
  {
   "cell_type": "code",
   "execution_count": 18,
   "metadata": {},
   "outputs": [
    {
     "data": {
      "text/plain": [
       "(array([    0.,  5000., 10000., 15000., 20000., 25000., 30000.]),\n",
       " <a list of 7 Text yticklabel objects>)"
      ]
     },
     "execution_count": 18,
     "metadata": {},
     "output_type": "execute_result"
    },
    {
     "data": {
      "image/png": "[encoded data removed]",
      "text/plain": [
       "<Figure size 1100x400 with 1 Axes>"
      ]
     },
     "metadata": {
      "needs_background": "light"
     },
     "output_type": "display_data"
    }
   ],
   "source": [
    "data.TIME.value_counts().plot.bar(width=0.75)\n",
    "plt.xticks(size = 8)\n",
    "plt.yticks(size = 8)"
   ]
  },
  {
   "cell_type": "code",
   "execution_count": 19,
   "metadata": {},
   "outputs": [
    {
     "data": {
      "text/plain": [
       "(array([    0.,  5000., 10000., 15000., 20000., 25000., 30000.]),\n",
       " <a list of 7 Text yticklabel objects>)"
      ]
     },
     "execution_count": 19,
     "metadata": {},
     "output_type": "execute_result"
    },
    {
     "data": {
      "image/png": "[encoded data removed]",
      "text/plain": [
       "<Figure size 1100x400 with 1 Axes>"
      ]
     },
     "metadata": {
      "needs_background": "light"
     },
     "output_type": "display_data"
    }
   ],
   "source": [
    "data.DAY_OF_WEEK.value_counts().plot.bar(width=0.75)\n",
    "plt.xticks(size = 8)\n",
    "plt.yticks(size = 8)"
   ]
  },
  {
   "cell_type": "code",
   "execution_count": 20,
   "metadata": {},
   "outputs": [
    {
     "name": "stdout",
     "output_type": "stream",
     "text": [
      "0    153382\n",
      "1      6547\n",
      "2       221\n",
      "3        20\n",
      "4         2\n",
      "6         1\n",
      "Name: PEDCOUNT, dtype: int64\n",
      "0    154762\n",
      "1      5370\n",
      "2        41\n",
      "Name: PEDCYLCOUNT, dtype: int64\n",
      "2     132946\n",
      "3      12411\n",
      "1      11609\n",
      "4       2311\n",
      "5        501\n",
      "0        194\n",
      "6        136\n",
      "7         39\n",
      "8         12\n",
      "9          8\n",
      "11         4\n",
      "12         1\n",
      "10         1\n",
      "Name: VEHCOUNT, dtype: int64\n"
     ]
    }
   ],
   "source": [
    "print(data.PEDCOUNT.value_counts())\n",
    "print(data.PEDCYLCOUNT.value_counts())\n",
    "print(data.VEHCOUNT.value_counts())"
   ]
  },
  {
   "cell_type": "code",
   "execution_count": 21,
   "metadata": {},
   "outputs": [],
   "source": [
    "# Let's drop values wirh very low observations (< 100)\n",
    "\n",
    "\n",
    "data = data[data.PEDCOUNT != 6]\n",
    "data = data[data.PEDCOUNT != 4]\n",
    "data = data[data.PEDCOUNT != 3]\n",
    "\n",
    "data = data[data.PEDCYLCOUNT != 2]\n",
    "\n",
    "data = data[data.VEHCOUNT != 10]\n",
    "data = data[data.VEHCOUNT != 12]\n",
    "data = data[data.VEHCOUNT != 11]\n",
    "data = data[data.VEHCOUNT != 9]\n",
    "data = data[data.VEHCOUNT != 8]\n",
    "data = data[data.VEHCOUNT != 7]"
   ]
  },
  {
   "cell_type": "code",
   "execution_count": 22,
   "metadata": {},
   "outputs": [
    {
     "name": "stdout",
     "output_type": "stream",
     "text": [
      "0    153278\n",
      "1      6545\n",
      "2       221\n",
      "Name: PEDCOUNT, dtype: int64\n",
      "0    154674\n",
      "1      5370\n",
      "Name: PEDCYLCOUNT, dtype: int64\n",
      "2    132942\n",
      "3     12411\n",
      "1     11563\n",
      "4      2311\n",
      "5       500\n",
      "0       181\n",
      "6       136\n",
      "Name: VEHCOUNT, dtype: int64\n"
     ]
    }
   ],
   "source": [
    "print(data.PEDCOUNT.value_counts())\n",
    "print(data.PEDCYLCOUNT.value_counts())\n",
    "print(data.VEHCOUNT.value_counts())"
   ]
  },
  {
   "cell_type": "code",
   "execution_count": 23,
   "metadata": {},
   "outputs": [
    {
     "data": {
      "text/plain": [
       "Index(['COLLISIONTYPE', 'PEDCOUNT', 'PEDCYLCOUNT', 'VEHCOUNT', 'INCDTTM',\n",
       "       'JUNCTIONTYPE', 'UNDERINFL', 'WEATHER', 'ROADCOND', 'LIGHTCOND', 'TIME',\n",
       "       'DAY_OF_WEEK', 'MONTH'],\n",
       "      dtype='object')"
      ]
     },
     "execution_count": 23,
     "metadata": {},
     "output_type": "execute_result"
    }
   ],
   "source": [
    "data.columns"
   ]
  },
  {
   "cell_type": "code",
   "execution_count": 24,
   "metadata": {
    "scrolled": true
   },
   "outputs": [],
   "source": [
    "data=data.drop(['INCDTTM'], axis=1)"
   ]
  },
  {
   "cell_type": "code",
   "execution_count": 25,
   "metadata": {},
   "outputs": [
    {
     "data": {
      "text/plain": [
       "Index(['COLLISIONTYPE', 'PEDCOUNT', 'PEDCYLCOUNT', 'VEHCOUNT', 'JUNCTIONTYPE',\n",
       "       'UNDERINFL', 'WEATHER', 'ROADCOND', 'LIGHTCOND', 'TIME', 'DAY_OF_WEEK',\n",
       "       'MONTH'],\n",
       "      dtype='object')"
      ]
     },
     "execution_count": 25,
     "metadata": {},
     "output_type": "execute_result"
    }
   ],
   "source": [
    "data.columns"
   ]
  },
  {
   "cell_type": "code",
   "execution_count": 26,
   "metadata": {},
   "outputs": [
    {
     "data": {
      "text/plain": [
       "Clear                       96108\n",
       "Raining                     27474\n",
       "Overcast                    23394\n",
       "Unknown                     11103\n",
       "Snowing                       694\n",
       "Other                         687\n",
       "Fog/Smog/Smoke                434\n",
       "Sleet/Hail/Freezing Rain       84\n",
       "Blowing Sand/Dirt              46\n",
       "Severe Crosswind               16\n",
       "Partly Cloudy                   4\n",
       "Name: WEATHER, dtype: int64"
      ]
     },
     "execution_count": 26,
     "metadata": {},
     "output_type": "execute_result"
    }
   ],
   "source": [
    "data.WEATHER.value_counts()"
   ]
  },
  {
   "cell_type": "code",
   "execution_count": 27,
   "metadata": {},
   "outputs": [],
   "source": [
    "data = data[data.WEATHER != 'Unknown']\n",
    "data = data[data.WEATHER != 'Other']\n",
    "data = data[data.WEATHER != 'Partly Cloudy']\n",
    "data = data[data.WEATHER != 'Severe Crosswind']\n",
    "data = data[data.WEATHER != 'Blowing Sand/Dirt']\n",
    "data = data[data.WEATHER != 'Sleet/Hail/Freezing Rain']"
   ]
  },
  {
   "cell_type": "code",
   "execution_count": 28,
   "metadata": {},
   "outputs": [
    {
     "data": {
      "text/plain": [
       "Clear             96108\n",
       "Raining           27474\n",
       "Overcast          23394\n",
       "Snowing             694\n",
       "Fog/Smog/Smoke      434\n",
       "Name: WEATHER, dtype: int64"
      ]
     },
     "execution_count": 28,
     "metadata": {},
     "output_type": "execute_result"
    }
   ],
   "source": [
    "data.WEATHER.value_counts()"
   ]
  },
  {
   "cell_type": "code",
   "execution_count": 29,
   "metadata": {},
   "outputs": [
    {
     "data": {
      "text/plain": [
       "Dry               106929\n",
       "Wet                38942\n",
       "Unknown              704\n",
       "Ice                  696\n",
       "Snow/Slush           671\n",
       "Other                 59\n",
       "Standing Water        49\n",
       "Sand/Mud/Dirt         31\n",
       "Oil                   23\n",
       "Name: ROADCOND, dtype: int64"
      ]
     },
     "execution_count": 29,
     "metadata": {},
     "output_type": "execute_result"
    }
   ],
   "source": [
    "data.ROADCOND.value_counts()"
   ]
  },
  {
   "cell_type": "code",
   "execution_count": 30,
   "metadata": {},
   "outputs": [],
   "source": [
    "data = data[data.ROADCOND != 'Unknown']\n",
    "data = data[data.ROADCOND != 'Other']\n",
    "data = data[data.ROADCOND != 'Oil']\n",
    "data = data[data.ROADCOND != 'Sand/Mud/Dirt']\n",
    "data = data[data.ROADCOND != 'Standing Water']"
   ]
  },
  {
   "cell_type": "code",
   "execution_count": 31,
   "metadata": {},
   "outputs": [
    {
     "data": {
      "text/plain": [
       "Dry           106929\n",
       "Wet            38942\n",
       "Ice              696\n",
       "Snow/Slush       671\n",
       "Name: ROADCOND, dtype: int64"
      ]
     },
     "execution_count": 31,
     "metadata": {},
     "output_type": "execute_result"
    }
   ],
   "source": [
    "data.ROADCOND.value_counts()"
   ]
  },
  {
   "cell_type": "code",
   "execution_count": 32,
   "metadata": {},
   "outputs": [
    {
     "data": {
      "text/plain": [
       "Daylight                    98781\n",
       "Dark - Street Lights On     37544\n",
       "Dusk                         4906\n",
       "Unknown                      1993\n",
       "Dawn                         1943\n",
       "Dark - No Street Lights      1039\n",
       "Dark - Street Lights Off      888\n",
       "Other                         138\n",
       "Dark - Unknown Lighting         6\n",
       "Name: LIGHTCOND, dtype: int64"
      ]
     },
     "execution_count": 32,
     "metadata": {},
     "output_type": "execute_result"
    }
   ],
   "source": [
    "data.LIGHTCOND.value_counts()"
   ]
  },
  {
   "cell_type": "code",
   "execution_count": 33,
   "metadata": {},
   "outputs": [],
   "source": [
    "data = data[data.LIGHTCOND != 'Unknown']\n",
    "data = data[data.LIGHTCOND != 'Other']\n",
    "data = data[data.LIGHTCOND != 'Dark - Unknown Lighting']\n",
    "data['LIGHTCOND'] = data['LIGHTCOND'].str.replace('Dark - No Street Lights','Dark - Street Lights Off')"
   ]
  },
  {
   "cell_type": "code",
   "execution_count": 34,
   "metadata": {},
   "outputs": [
    {
     "data": {
      "text/plain": [
       "Daylight                    98781\n",
       "Dark - Street Lights On     37544\n",
       "Dusk                         4906\n",
       "Dawn                         1943\n",
       "Dark - Street Lights Off     1927\n",
       "Name: LIGHTCOND, dtype: int64"
      ]
     },
     "execution_count": 34,
     "metadata": {},
     "output_type": "execute_result"
    }
   ],
   "source": [
    "data.LIGHTCOND.value_counts()"
   ]
  },
  {
   "cell_type": "code",
   "execution_count": 35,
   "metadata": {},
   "outputs": [
    {
     "name": "stdout",
     "output_type": "stream",
     "text": [
      "<class 'pandas.core.frame.DataFrame'>\n",
      "Int64Index: 145101 entries, 2 to 1\n",
      "Data columns (total 12 columns):\n",
      " #   Column         Non-Null Count   Dtype \n",
      "---  ------         --------------   ----- \n",
      " 0   COLLISIONTYPE  145101 non-null  object\n",
      " 1   PEDCOUNT       145101 non-null  int64 \n",
      " 2   PEDCYLCOUNT    145101 non-null  int64 \n",
      " 3   VEHCOUNT       145101 non-null  int64 \n",
      " 4   JUNCTIONTYPE   145101 non-null  object\n",
      " 5   UNDERINFL      145101 non-null  object\n",
      " 6   WEATHER        145101 non-null  object\n",
      " 7   ROADCOND       145101 non-null  object\n",
      " 8   LIGHTCOND      145101 non-null  object\n",
      " 9   TIME           145101 non-null  object\n",
      " 10  DAY_OF_WEEK    145101 non-null  object\n",
      " 11  MONTH          145101 non-null  object\n",
      "dtypes: int64(3), object(9)\n",
      "memory usage: 14.4+ MB\n"
     ]
    }
   ],
   "source": [
    "data.info()"
   ]
  },
  {
   "cell_type": "code",
   "execution_count": 36,
   "metadata": {},
   "outputs": [
    {
     "data": {
      "text/plain": [
       "Index(['COLLISIONTYPE', 'PEDCOUNT', 'PEDCYLCOUNT', 'VEHCOUNT', 'JUNCTIONTYPE',\n",
       "       'UNDERINFL', 'WEATHER', 'ROADCOND', 'LIGHTCOND', 'TIME', 'DAY_OF_WEEK',\n",
       "       'MONTH'],\n",
       "      dtype='object')"
      ]
     },
     "execution_count": 36,
     "metadata": {},
     "output_type": "execute_result"
    }
   ],
   "source": [
    "data.columns"
   ]
  },
  {
   "cell_type": "code",
   "execution_count": 37,
   "metadata": {},
   "outputs": [],
   "source": [
    "# data['SEVERITYCODE'] = pd.Categorical(data['SEVERITYCODE'])\n",
    "data['COLLISIONTYPE'] = pd.Categorical(data['COLLISIONTYPE'])\n",
    "data['JUNCTIONTYPE'] = pd.Categorical(data['JUNCTIONTYPE'])\n",
    "data['PEDCOUNT'] = pd.Categorical(data['PEDCOUNT'])\n",
    "data['VEHCOUNT'] = pd.Categorical(data['VEHCOUNT'])\n",
    "data['PEDCYLCOUNT'] = pd.Categorical(data['PEDCYLCOUNT'])\n",
    "data['UNDERINFL'] = pd.Categorical(data['UNDERINFL'])\n",
    "data['WEATHER'] = pd.Categorical(data['WEATHER'])\n",
    "data['ROADCOND'] = pd.Categorical(data['ROADCOND'])\n",
    "data['LIGHTCOND'] = pd.Categorical(data['LIGHTCOND'])\n",
    "data['TIME'] = pd.Categorical(data['TIME'])\n",
    "data['DAY_OF_WEEK'] = pd.Categorical(data['DAY_OF_WEEK'])\n",
    "data['MONTH'] = pd.Categorical(data['MONTH'])"
   ]
  },
  {
   "cell_type": "code",
   "execution_count": 38,
   "metadata": {},
   "outputs": [
    {
     "data": {
      "text/plain": [
       "COLLISIONTYPE    category\n",
       "PEDCOUNT         category\n",
       "PEDCYLCOUNT      category\n",
       "VEHCOUNT         category\n",
       "JUNCTIONTYPE     category\n",
       "UNDERINFL        category\n",
       "WEATHER          category\n",
       "ROADCOND         category\n",
       "LIGHTCOND        category\n",
       "TIME             category\n",
       "DAY_OF_WEEK      category\n",
       "MONTH            category\n",
       "dtype: object"
      ]
     },
     "execution_count": 38,
     "metadata": {},
     "output_type": "execute_result"
    }
   ],
   "source": [
    "data.dtypes"
   ]
  },
  {
   "cell_type": "code",
   "execution_count": 39,
   "metadata": {},
   "outputs": [],
   "source": [
    "fdummies = pd.get_dummies(data)"
   ]
  },
  {
   "cell_type": "code",
   "execution_count": 40,
   "metadata": {},
   "outputs": [
    {
     "data": {
      "text/plain": [
       "Index(['COLLISIONTYPE_Angles', 'COLLISIONTYPE_Cycles', 'COLLISIONTYPE_Head On',\n",
       "       'COLLISIONTYPE_Left Turn', 'COLLISIONTYPE_Parked Car',\n",
       "       'COLLISIONTYPE_Pedestrian', 'COLLISIONTYPE_Rear Ended',\n",
       "       'COLLISIONTYPE_Right Turn', 'COLLISIONTYPE_Sideswipe', 'PEDCOUNT_0',\n",
       "       'PEDCOUNT_1', 'PEDCOUNT_2', 'PEDCYLCOUNT_0', 'PEDCYLCOUNT_1',\n",
       "       'VEHCOUNT_0', 'VEHCOUNT_1', 'VEHCOUNT_2', 'VEHCOUNT_3', 'VEHCOUNT_4',\n",
       "       'VEHCOUNT_5', 'VEHCOUNT_6', 'JUNCTIONTYPE_At Intersection (NRI)',\n",
       "       'JUNCTIONTYPE_At Intersection (RI)', 'JUNCTIONTYPE_Driveway Junction',\n",
       "       'JUNCTIONTYPE_Mid-Block (NRI)', 'JUNCTIONTYPE_Mid-Block (RI)',\n",
       "       'JUNCTIONTYPE_Ramp Junction', 'UNDERINFL_N', 'UNDERINFL_Y',\n",
       "       'WEATHER_Clear', 'WEATHER_Fog/Smog/Smoke', 'WEATHER_Overcast',\n",
       "       'WEATHER_Raining', 'WEATHER_Snowing', 'ROADCOND_Dry', 'ROADCOND_Ice',\n",
       "       'ROADCOND_Snow/Slush', 'ROADCOND_Wet',\n",
       "       'LIGHTCOND_Dark - Street Lights Off',\n",
       "       'LIGHTCOND_Dark - Street Lights On', 'LIGHTCOND_Dawn',\n",
       "       'LIGHTCOND_Daylight', 'LIGHTCOND_Dusk', 'TIME_00', 'TIME_01', 'TIME_02',\n",
       "       'TIME_03', 'TIME_04', 'TIME_05', 'TIME_06', 'TIME_07', 'TIME_08',\n",
       "       'TIME_09', 'TIME_10', 'TIME_11', 'TIME_12', 'TIME_13', 'TIME_14',\n",
       "       'TIME_15', 'TIME_16', 'TIME_17', 'TIME_18', 'TIME_19', 'TIME_20',\n",
       "       'TIME_21', 'TIME_22', 'TIME_23', 'DAY_OF_WEEK_Friday',\n",
       "       'DAY_OF_WEEK_Monday', 'DAY_OF_WEEK_Saturday', 'DAY_OF_WEEK_Sunday',\n",
       "       'DAY_OF_WEEK_Thursday', 'DAY_OF_WEEK_Tuesday', 'DAY_OF_WEEK_Wednesday',\n",
       "       'MONTH_April', 'MONTH_August', 'MONTH_December', 'MONTH_February',\n",
       "       'MONTH_January', 'MONTH_July', 'MONTH_June', 'MONTH_March', 'MONTH_May',\n",
       "       'MONTH_November', 'MONTH_October', 'MONTH_September'],\n",
       "      dtype='object')"
      ]
     },
     "execution_count": 40,
     "metadata": {},
     "output_type": "execute_result"
    }
   ],
   "source": [
    "fdummies.columns"
   ]
  },
  {
   "cell_type": "code",
   "execution_count": 41,
   "metadata": {},
   "outputs": [
    {
     "data": {
      "text/plain": [
       "COLLISIONTYPE_Angles        uint8\n",
       "COLLISIONTYPE_Cycles        uint8\n",
       "COLLISIONTYPE_Head On       uint8\n",
       "COLLISIONTYPE_Left Turn     uint8\n",
       "COLLISIONTYPE_Parked Car    uint8\n",
       "                            ...  \n",
       "MONTH_March                 uint8\n",
       "MONTH_May                   uint8\n",
       "MONTH_November              uint8\n",
       "MONTH_October               uint8\n",
       "MONTH_September             uint8\n",
       "Length: 86, dtype: object"
      ]
     },
     "execution_count": 41,
     "metadata": {},
     "output_type": "execute_result"
    }
   ],
   "source": [
    "fdummies.dtypes"
   ]
  },
  {
   "cell_type": "code",
   "execution_count": 42,
   "metadata": {},
   "outputs": [],
   "source": [
    "fdummies=fdummies.sample(frac=1)"
   ]
  },
  {
   "cell_type": "code",
   "execution_count": 43,
   "metadata": {},
   "outputs": [
    {
     "data": {
      "text/html": [
       "<div>\n",
       "<style scoped>\n",
       "    .dataframe tbody tr th:only-of-type {\n",
       "        vertical-align: middle;\n",
       "    }\n",
       "\n",
       "    .dataframe tbody tr th {\n",
       "        vertical-align: top;\n",
       "    }\n",
       "\n",
       "    .dataframe thead th {\n",
       "        text-align: right;\n",
       "    }\n",
       "</style>\n",
       "<table border=\"1\" class=\"dataframe\">\n",
       "  <thead>\n",
       "    <tr style=\"text-align: right;\">\n",
       "      <th></th>\n",
       "      <th>COLLISIONTYPE_Angles</th>\n",
       "      <th>COLLISIONTYPE_Cycles</th>\n",
       "      <th>COLLISIONTYPE_Head On</th>\n",
       "      <th>COLLISIONTYPE_Left Turn</th>\n",
       "      <th>COLLISIONTYPE_Parked Car</th>\n",
       "      <th>COLLISIONTYPE_Pedestrian</th>\n",
       "      <th>COLLISIONTYPE_Rear Ended</th>\n",
       "      <th>COLLISIONTYPE_Right Turn</th>\n",
       "      <th>COLLISIONTYPE_Sideswipe</th>\n",
       "      <th>PEDCOUNT_0</th>\n",
       "      <th>...</th>\n",
       "      <th>MONTH_December</th>\n",
       "      <th>MONTH_February</th>\n",
       "      <th>MONTH_January</th>\n",
       "      <th>MONTH_July</th>\n",
       "      <th>MONTH_June</th>\n",
       "      <th>MONTH_March</th>\n",
       "      <th>MONTH_May</th>\n",
       "      <th>MONTH_November</th>\n",
       "      <th>MONTH_October</th>\n",
       "      <th>MONTH_September</th>\n",
       "    </tr>\n",
       "    <tr>\n",
       "      <th>SEVERITYCODE</th>\n",
       "      <th></th>\n",
       "      <th></th>\n",
       "      <th></th>\n",
       "      <th></th>\n",
       "      <th></th>\n",
       "      <th></th>\n",
       "      <th></th>\n",
       "      <th></th>\n",
       "      <th></th>\n",
       "      <th></th>\n",
       "      <th></th>\n",
       "      <th></th>\n",
       "      <th></th>\n",
       "      <th></th>\n",
       "      <th></th>\n",
       "      <th></th>\n",
       "      <th></th>\n",
       "      <th></th>\n",
       "      <th></th>\n",
       "      <th></th>\n",
       "      <th></th>\n",
       "    </tr>\n",
       "  </thead>\n",
       "  <tbody>\n",
       "    <tr>\n",
       "      <th>2</th>\n",
       "      <td>0</td>\n",
       "      <td>0</td>\n",
       "      <td>1</td>\n",
       "      <td>0</td>\n",
       "      <td>0</td>\n",
       "      <td>0</td>\n",
       "      <td>0</td>\n",
       "      <td>0</td>\n",
       "      <td>0</td>\n",
       "      <td>1</td>\n",
       "      <td>...</td>\n",
       "      <td>0</td>\n",
       "      <td>0</td>\n",
       "      <td>0</td>\n",
       "      <td>0</td>\n",
       "      <td>0</td>\n",
       "      <td>0</td>\n",
       "      <td>0</td>\n",
       "      <td>0</td>\n",
       "      <td>0</td>\n",
       "      <td>0</td>\n",
       "    </tr>\n",
       "    <tr>\n",
       "      <th>1</th>\n",
       "      <td>0</td>\n",
       "      <td>0</td>\n",
       "      <td>0</td>\n",
       "      <td>0</td>\n",
       "      <td>0</td>\n",
       "      <td>0</td>\n",
       "      <td>0</td>\n",
       "      <td>1</td>\n",
       "      <td>0</td>\n",
       "      <td>1</td>\n",
       "      <td>...</td>\n",
       "      <td>0</td>\n",
       "      <td>0</td>\n",
       "      <td>0</td>\n",
       "      <td>0</td>\n",
       "      <td>0</td>\n",
       "      <td>0</td>\n",
       "      <td>1</td>\n",
       "      <td>0</td>\n",
       "      <td>0</td>\n",
       "      <td>0</td>\n",
       "    </tr>\n",
       "    <tr>\n",
       "      <th>2</th>\n",
       "      <td>0</td>\n",
       "      <td>0</td>\n",
       "      <td>0</td>\n",
       "      <td>1</td>\n",
       "      <td>0</td>\n",
       "      <td>0</td>\n",
       "      <td>0</td>\n",
       "      <td>0</td>\n",
       "      <td>0</td>\n",
       "      <td>1</td>\n",
       "      <td>...</td>\n",
       "      <td>0</td>\n",
       "      <td>0</td>\n",
       "      <td>0</td>\n",
       "      <td>0</td>\n",
       "      <td>0</td>\n",
       "      <td>0</td>\n",
       "      <td>0</td>\n",
       "      <td>0</td>\n",
       "      <td>0</td>\n",
       "      <td>0</td>\n",
       "    </tr>\n",
       "    <tr>\n",
       "      <th>1</th>\n",
       "      <td>0</td>\n",
       "      <td>0</td>\n",
       "      <td>0</td>\n",
       "      <td>0</td>\n",
       "      <td>0</td>\n",
       "      <td>0</td>\n",
       "      <td>0</td>\n",
       "      <td>1</td>\n",
       "      <td>0</td>\n",
       "      <td>1</td>\n",
       "      <td>...</td>\n",
       "      <td>0</td>\n",
       "      <td>0</td>\n",
       "      <td>0</td>\n",
       "      <td>1</td>\n",
       "      <td>0</td>\n",
       "      <td>0</td>\n",
       "      <td>0</td>\n",
       "      <td>0</td>\n",
       "      <td>0</td>\n",
       "      <td>0</td>\n",
       "    </tr>\n",
       "    <tr>\n",
       "      <th>2</th>\n",
       "      <td>0</td>\n",
       "      <td>1</td>\n",
       "      <td>0</td>\n",
       "      <td>0</td>\n",
       "      <td>0</td>\n",
       "      <td>0</td>\n",
       "      <td>0</td>\n",
       "      <td>0</td>\n",
       "      <td>0</td>\n",
       "      <td>1</td>\n",
       "      <td>...</td>\n",
       "      <td>0</td>\n",
       "      <td>0</td>\n",
       "      <td>0</td>\n",
       "      <td>0</td>\n",
       "      <td>0</td>\n",
       "      <td>0</td>\n",
       "      <td>0</td>\n",
       "      <td>1</td>\n",
       "      <td>0</td>\n",
       "      <td>0</td>\n",
       "    </tr>\n",
       "    <tr>\n",
       "      <th>...</th>\n",
       "      <td>...</td>\n",
       "      <td>...</td>\n",
       "      <td>...</td>\n",
       "      <td>...</td>\n",
       "      <td>...</td>\n",
       "      <td>...</td>\n",
       "      <td>...</td>\n",
       "      <td>...</td>\n",
       "      <td>...</td>\n",
       "      <td>...</td>\n",
       "      <td>...</td>\n",
       "      <td>...</td>\n",
       "      <td>...</td>\n",
       "      <td>...</td>\n",
       "      <td>...</td>\n",
       "      <td>...</td>\n",
       "      <td>...</td>\n",
       "      <td>...</td>\n",
       "      <td>...</td>\n",
       "      <td>...</td>\n",
       "      <td>...</td>\n",
       "    </tr>\n",
       "    <tr>\n",
       "      <th>1</th>\n",
       "      <td>0</td>\n",
       "      <td>0</td>\n",
       "      <td>0</td>\n",
       "      <td>0</td>\n",
       "      <td>1</td>\n",
       "      <td>0</td>\n",
       "      <td>0</td>\n",
       "      <td>0</td>\n",
       "      <td>0</td>\n",
       "      <td>1</td>\n",
       "      <td>...</td>\n",
       "      <td>0</td>\n",
       "      <td>0</td>\n",
       "      <td>0</td>\n",
       "      <td>0</td>\n",
       "      <td>0</td>\n",
       "      <td>0</td>\n",
       "      <td>0</td>\n",
       "      <td>0</td>\n",
       "      <td>0</td>\n",
       "      <td>0</td>\n",
       "    </tr>\n",
       "    <tr>\n",
       "      <th>1</th>\n",
       "      <td>0</td>\n",
       "      <td>0</td>\n",
       "      <td>0</td>\n",
       "      <td>0</td>\n",
       "      <td>0</td>\n",
       "      <td>0</td>\n",
       "      <td>0</td>\n",
       "      <td>0</td>\n",
       "      <td>1</td>\n",
       "      <td>1</td>\n",
       "      <td>...</td>\n",
       "      <td>0</td>\n",
       "      <td>0</td>\n",
       "      <td>0</td>\n",
       "      <td>0</td>\n",
       "      <td>0</td>\n",
       "      <td>0</td>\n",
       "      <td>1</td>\n",
       "      <td>0</td>\n",
       "      <td>0</td>\n",
       "      <td>0</td>\n",
       "    </tr>\n",
       "    <tr>\n",
       "      <th>1</th>\n",
       "      <td>0</td>\n",
       "      <td>0</td>\n",
       "      <td>1</td>\n",
       "      <td>0</td>\n",
       "      <td>0</td>\n",
       "      <td>0</td>\n",
       "      <td>0</td>\n",
       "      <td>0</td>\n",
       "      <td>0</td>\n",
       "      <td>1</td>\n",
       "      <td>...</td>\n",
       "      <td>0</td>\n",
       "      <td>0</td>\n",
       "      <td>0</td>\n",
       "      <td>1</td>\n",
       "      <td>0</td>\n",
       "      <td>0</td>\n",
       "      <td>0</td>\n",
       "      <td>0</td>\n",
       "      <td>0</td>\n",
       "      <td>0</td>\n",
       "    </tr>\n",
       "    <tr>\n",
       "      <th>1</th>\n",
       "      <td>0</td>\n",
       "      <td>0</td>\n",
       "      <td>0</td>\n",
       "      <td>0</td>\n",
       "      <td>1</td>\n",
       "      <td>0</td>\n",
       "      <td>0</td>\n",
       "      <td>0</td>\n",
       "      <td>0</td>\n",
       "      <td>1</td>\n",
       "      <td>...</td>\n",
       "      <td>0</td>\n",
       "      <td>0</td>\n",
       "      <td>0</td>\n",
       "      <td>0</td>\n",
       "      <td>1</td>\n",
       "      <td>0</td>\n",
       "      <td>0</td>\n",
       "      <td>0</td>\n",
       "      <td>0</td>\n",
       "      <td>0</td>\n",
       "    </tr>\n",
       "    <tr>\n",
       "      <th>2</th>\n",
       "      <td>1</td>\n",
       "      <td>0</td>\n",
       "      <td>0</td>\n",
       "      <td>0</td>\n",
       "      <td>0</td>\n",
       "      <td>0</td>\n",
       "      <td>0</td>\n",
       "      <td>0</td>\n",
       "      <td>0</td>\n",
       "      <td>1</td>\n",
       "      <td>...</td>\n",
       "      <td>0</td>\n",
       "      <td>0</td>\n",
       "      <td>0</td>\n",
       "      <td>0</td>\n",
       "      <td>0</td>\n",
       "      <td>0</td>\n",
       "      <td>1</td>\n",
       "      <td>0</td>\n",
       "      <td>0</td>\n",
       "      <td>0</td>\n",
       "    </tr>\n",
       "  </tbody>\n",
       "</table>\n",
       "<p>145101 rows × 86 columns</p>\n",
       "</div>"
      ],
      "text/plain": [
       "              COLLISIONTYPE_Angles  COLLISIONTYPE_Cycles  \\\n",
       "SEVERITYCODE                                               \n",
       "2                                0                     0   \n",
       "1                                0                     0   \n",
       "2                                0                     0   \n",
       "1                                0                     0   \n",
       "2                                0                     1   \n",
       "...                            ...                   ...   \n",
       "1                                0                     0   \n",
       "1                                0                     0   \n",
       "1                                0                     0   \n",
       "1                                0                     0   \n",
       "2                                1                     0   \n",
       "\n",
       "              COLLISIONTYPE_Head On  COLLISIONTYPE_Left Turn  \\\n",
       "SEVERITYCODE                                                   \n",
       "2                                 1                        0   \n",
       "1                                 0                        0   \n",
       "2                                 0                        1   \n",
       "1                                 0                        0   \n",
       "2                                 0                        0   \n",
       "...                             ...                      ...   \n",
       "1                                 0                        0   \n",
       "1                                 0                        0   \n",
       "1                                 1                        0   \n",
       "1                                 0                        0   \n",
       "2                                 0                        0   \n",
       "\n",
       "              COLLISIONTYPE_Parked Car  COLLISIONTYPE_Pedestrian  \\\n",
       "SEVERITYCODE                                                       \n",
       "2                                    0                         0   \n",
       "1                                    0                         0   \n",
       "2                                    0                         0   \n",
       "1                                    0                         0   \n",
       "2                                    0                         0   \n",
       "...                                ...                       ...   \n",
       "1                                    1                         0   \n",
       "1                                    0                         0   \n",
       "1                                    0                         0   \n",
       "1                                    1                         0   \n",
       "2                                    0                         0   \n",
       "\n",
       "              COLLISIONTYPE_Rear Ended  COLLISIONTYPE_Right Turn  \\\n",
       "SEVERITYCODE                                                       \n",
       "2                                    0                         0   \n",
       "1                                    0                         1   \n",
       "2                                    0                         0   \n",
       "1                                    0                         1   \n",
       "2                                    0                         0   \n",
       "...                                ...                       ...   \n",
       "1                                    0                         0   \n",
       "1                                    0                         0   \n",
       "1                                    0                         0   \n",
       "1                                    0                         0   \n",
       "2                                    0                         0   \n",
       "\n",
       "              COLLISIONTYPE_Sideswipe  PEDCOUNT_0  ...  MONTH_December  \\\n",
       "SEVERITYCODE                                       ...                   \n",
       "2                                   0           1  ...               0   \n",
       "1                                   0           1  ...               0   \n",
       "2                                   0           1  ...               0   \n",
       "1                                   0           1  ...               0   \n",
       "2                                   0           1  ...               0   \n",
       "...                               ...         ...  ...             ...   \n",
       "1                                   0           1  ...               0   \n",
       "1                                   1           1  ...               0   \n",
       "1                                   0           1  ...               0   \n",
       "1                                   0           1  ...               0   \n",
       "2                                   0           1  ...               0   \n",
       "\n",
       "              MONTH_February  MONTH_January  MONTH_July  MONTH_June  \\\n",
       "SEVERITYCODE                                                          \n",
       "2                          0              0           0           0   \n",
       "1                          0              0           0           0   \n",
       "2                          0              0           0           0   \n",
       "1                          0              0           1           0   \n",
       "2                          0              0           0           0   \n",
       "...                      ...            ...         ...         ...   \n",
       "1                          0              0           0           0   \n",
       "1                          0              0           0           0   \n",
       "1                          0              0           1           0   \n",
       "1                          0              0           0           1   \n",
       "2                          0              0           0           0   \n",
       "\n",
       "              MONTH_March  MONTH_May  MONTH_November  MONTH_October  \\\n",
       "SEVERITYCODE                                                          \n",
       "2                       0          0               0              0   \n",
       "1                       0          1               0              0   \n",
       "2                       0          0               0              0   \n",
       "1                       0          0               0              0   \n",
       "2                       0          0               1              0   \n",
       "...                   ...        ...             ...            ...   \n",
       "1                       0          0               0              0   \n",
       "1                       0          1               0              0   \n",
       "1                       0          0               0              0   \n",
       "1                       0          0               0              0   \n",
       "2                       0          1               0              0   \n",
       "\n",
       "              MONTH_September  \n",
       "SEVERITYCODE                   \n",
       "2                           0  \n",
       "1                           0  \n",
       "2                           0  \n",
       "1                           0  \n",
       "2                           0  \n",
       "...                       ...  \n",
       "1                           0  \n",
       "1                           0  \n",
       "1                           0  \n",
       "1                           0  \n",
       "2                           0  \n",
       "\n",
       "[145101 rows x 86 columns]"
      ]
     },
     "execution_count": 43,
     "metadata": {},
     "output_type": "execute_result"
    }
   ],
   "source": [
    "fdummies"
   ]
  },
  {
   "cell_type": "code",
   "execution_count": 44,
   "metadata": {},
   "outputs": [],
   "source": [
    "X=fdummies\n",
    "y=fdummies.index"
   ]
  },
  {
   "cell_type": "code",
   "execution_count": 45,
   "metadata": {},
   "outputs": [],
   "source": [
    "# split into train test sets\n",
    "X_train, X_test, y_train, y_test = train_test_split(X,y)"
   ]
  },
  {
   "cell_type": "markdown",
   "metadata": {},
   "source": [
    "### Logistic Regression"
   ]
  },
  {
   "cell_type": "code",
   "execution_count": 74,
   "metadata": {},
   "outputs": [
    {
     "name": "stdout",
     "output_type": "stream",
     "text": [
      "Train accuracy: 0.730925798300023\n",
      "Test accuracy: 0.7315856213474473\n",
      "F1-score: 0.70\n",
      "              precision    recall  f1-score   support\n",
      "\n",
      "           1       0.73      0.93      0.82     24117\n",
      "           2       0.72      0.33      0.45     12159\n",
      "\n",
      "    accuracy                           0.73     36276\n",
      "   macro avg       0.73      0.63      0.64     36276\n",
      "weighted avg       0.73      0.73      0.70     36276\n",
      "\n"
     ]
    }
   ],
   "source": [
    "logreg = LogisticRegression(C=0.01, max_iter=10000)\n",
    "logreg.fit(X_train, y_train) #This is where the training is taking place\n",
    "y_pred_logreg = logreg.predict(X_test) #Making predictions to test the model on test data\n",
    "print('Train accuracy: %s' % logreg.score(X_train, y_train)) #Train accuracy\n",
    "print('Test accuracy: %s' % accuracy_score(y_pred_logreg, y_test)) #Test accuracy\n",
    "print(\"F1-score: %.2f\" % f1_score(y_test, y_pred_logreg, average='weighted') )\n",
    "print(classification_report(y_test, y_pred_logreg))"
   ]
  },
  {
   "cell_type": "code",
   "execution_count": 66,
   "metadata": {},
   "outputs": [
    {
     "name": "stdout",
     "output_type": "stream",
     "text": [
      "Confusion matrix, without normalization\n",
      "[[22528  1589]\n",
      " [ 8148  4011]]\n",
      "Normalized confusion matrix\n",
      "[[0.93411287 0.06588713]\n",
      " [0.6701209  0.3298791 ]]\n"
     ]
    },
    {
     "data": {
      "image/png": "[encoded data removed]",
      "text/plain": [
       "<Figure size 1100x400 with 2 Axes>"
      ]
     },
     "metadata": {
      "needs_background": "light"
     },
     "output_type": "display_data"
    },
    {
     "data": {
      "image/png": "[encoded data removed]",
      "text/plain": [
       "<Figure size 1100x400 with 2 Axes>"
      ]
     },
     "metadata": {
      "needs_background": "light"
     },
     "output_type": "display_data"
    }
   ],
   "source": [
    "titles_options = [(\"Confusion matrix, without normalization\", None),\n",
    "                  (\"Normalized confusion matrix\", 'true')]\n",
    "for title, normalize in titles_options:\n",
    "    disp = plot_confusion_matrix(logreg, X_test, y_test,\n",
    "                                 cmap=plt.cm.Blues,\n",
    "                                 normalize=normalize)\n",
    "    disp.ax_.set_title(title)\n",
    "\n",
    "    print(title)\n",
    "    print(disp.confusion_matrix)"
   ]
  },
  {
   "cell_type": "markdown",
   "metadata": {},
   "source": [
    "### Random Forest"
   ]
  },
  {
   "cell_type": "code",
   "execution_count": 67,
   "metadata": {},
   "outputs": [
    {
     "name": "stdout",
     "output_type": "stream",
     "text": [
      "Accuracy: 69.36\n",
      "F1-score: 0.68\n",
      "              precision    recall  f1-score   support\n",
      "\n",
      "           1       0.75      0.82      0.78     24117\n",
      "           2       0.55      0.45      0.49     12159\n",
      "\n",
      "    accuracy                           0.69     36276\n",
      "   macro avg       0.65      0.63      0.64     36276\n",
      "weighted avg       0.68      0.69      0.68     36276\n",
      "\n"
     ]
    }
   ],
   "source": [
    "random_forest = RandomForestClassifier(n_estimators=100)\n",
    "random_forest.fit(X_train, y_train)\n",
    "Y_pred = random_forest.predict(X_test)\n",
    "a = np.array(Y_pred)\n",
    "predict_random_forest = collections.Counter(a)\n",
    "acc_random_forest = round(random_forest.score(X_test, y_test) * 100, 2)\n",
    "print(\"Accuracy: {}\".format(acc_random_forest))\n",
    "print(\"F1-score: %.2f\" % f1_score(y_test, Y_pred, average='weighted') )\n",
    "print(classification_report(y_test, Y_pred))"
   ]
  },
  {
   "cell_type": "code",
   "execution_count": 68,
   "metadata": {},
   "outputs": [
    {
     "name": "stdout",
     "output_type": "stream",
     "text": [
      "Confusion matrix, without normalization\n",
      "[[19720  4397]\n",
      " [ 6719  5440]]\n",
      "Normalized confusion matrix\n",
      "[[0.81768047 0.18231953]\n",
      " [0.55259479 0.44740521]]\n"
     ]
    },
    {
     "data": {
      "image/png": "[encoded data removed]",
      "text/plain": [
       "<Figure size 1100x400 with 2 Axes>"
      ]
     },
     "metadata": {
      "needs_background": "light"
     },
     "output_type": "display_data"
    },
    {
     "data": {
      "image/png": "[encoded data removed]",
      "text/plain": [
       "<Figure size 1100x400 with 2 Axes>"
      ]
     },
     "metadata": {
      "needs_background": "light"
     },
     "output_type": "display_data"
    }
   ],
   "source": [
    "titles_options = [(\"Confusion matrix, without normalization\", None),\n",
    "                  (\"Normalized confusion matrix\", 'true')]\n",
    "for title, normalize in titles_options:\n",
    "    disp = plot_confusion_matrix(random_forest, X_test, y_test,\n",
    "                                 cmap=plt.cm.Blues,\n",
    "                                 normalize=normalize)\n",
    "    disp.ax_.set_title(title)\n",
    "\n",
    "    print(title)\n",
    "    print(disp.confusion_matrix)"
   ]
  },
  {
   "cell_type": "markdown",
   "metadata": {},
   "source": [
    "### Decision Tree"
   ]
  },
  {
   "cell_type": "code",
   "execution_count": 50,
   "metadata": {
    "scrolled": true
   },
   "outputs": [
    {
     "name": "stdout",
     "output_type": "stream",
     "text": [
      "72.25714805665713\n",
      "72.24887789814575\n",
      "72.22958200138747\n",
      "73.1337673824158\n",
      "73.10620018737791\n",
      "73.13652486176511\n",
      "73.0097245028141\n",
      "72.97664044946382\n",
      "72.96009975251832\n",
      "72.90220750317046\n",
      "72.73404799336198\n",
      "72.51903716936272\n",
      "72.24888891590562\n",
      "72.02008423647304\n",
      "71.8353863092556\n",
      "71.59279879214958\n",
      "71.23995351265181\n",
      "71.16276574646842\n",
      "70.87607679606582\n"
     ]
    },
    {
     "data": {
      "image/png": "[encoded data removed]",
      "text/plain": [
       "<Figure size 1100x400 with 1 Axes>"
      ]
     },
     "metadata": {
      "needs_background": "light"
     },
     "output_type": "display_data"
    }
   ],
   "source": [
    "from sklearn.tree import DecisionTreeClassifier\n",
    "seed=78479\n",
    "np.random.seed(seed)\n",
    "for i in range(1,20):\n",
    "    tree = DecisionTreeClassifier(criterion='gini',max_depth=i ,random_state=1)  \n",
    "    tree.fit(X_train, y_train) \n",
    "    y_pred =tree.predict(X_test)\n",
    "    kfold = KFold(n_splits=10, shuffle=True, random_state=seed)\n",
    "    score = cross_val_score(tree, X_test, y_test)\n",
    "    mean=score.mean()*100\n",
    "    plt.scatter(i, mean)\n",
    "    print(mean)\n",
    "plt.show()"
   ]
  },
  {
   "cell_type": "code",
   "execution_count": 70,
   "metadata": {},
   "outputs": [
    {
     "data": {
      "text/plain": [
       "DecisionTreeClassifier(ccp_alpha=0.0, class_weight=None, criterion='entropy',\n",
       "                       max_depth=6, max_features=None, max_leaf_nodes=None,\n",
       "                       min_impurity_decrease=0.0, min_impurity_split=None,\n",
       "                       min_samples_leaf=1, min_samples_split=2,\n",
       "                       min_weight_fraction_leaf=0.0, presort='deprecated',\n",
       "                       random_state=None, splitter='best')"
      ]
     },
     "execution_count": 70,
     "metadata": {},
     "output_type": "execute_result"
    }
   ],
   "source": [
    "# According to this, we need to choose max_depth=6:\n",
    "DT_model = DecisionTreeClassifier(criterion=\"entropy\", max_depth = 6)\n",
    "DT_model.fit(X_train, y_train)"
   ]
  },
  {
   "cell_type": "code",
   "execution_count": 71,
   "metadata": {},
   "outputs": [],
   "source": [
    "#Prediction\n",
    "DT_yhat = DT_model.predict(X_test)"
   ]
  },
  {
   "cell_type": "code",
   "execution_count": 72,
   "metadata": {},
   "outputs": [
    {
     "name": "stdout",
     "output_type": "stream",
     "text": [
      "Train set Accuracy:  0.7313760624856421\n",
      "Test set Accuracy:  0.7320542507442938\n",
      "F1-score: 0.69\n",
      "              precision    recall  f1-score   support\n",
      "\n",
      "           1       0.73      0.94      0.82     24117\n",
      "           2       0.74      0.31      0.44     12159\n",
      "\n",
      "    accuracy                           0.73     36276\n",
      "   macro avg       0.73      0.63      0.63     36276\n",
      "weighted avg       0.73      0.73      0.69     36276\n",
      "\n"
     ]
    }
   ],
   "source": [
    "print(\"Train set Accuracy: \", metrics.accuracy_score(y_train, DT_model.predict(X_train)))\n",
    "print(\"Test set Accuracy: \", metrics.accuracy_score(y_test, DT_yhat))\n",
    "print(\"F1-score: %.2f\" % f1_score(y_test, DT_yhat, average='weighted') )\n",
    "print(classification_report(y_test, DT_yhat))"
   ]
  },
  {
   "cell_type": "code",
   "execution_count": 73,
   "metadata": {},
   "outputs": [
    {
     "name": "stdout",
     "output_type": "stream",
     "text": [
      "Confusion matrix, without normalization\n",
      "[[22761  1356]\n",
      " [ 8364  3795]]\n",
      "Normalized confusion matrix\n",
      "[[0.9437741  0.0562259 ]\n",
      " [0.68788552 0.31211448]]\n"
     ]
    },
    {
     "data": {
      "image/png": "[encoded data removed]",
      "text/plain": [
       "<Figure size 1100x400 with 2 Axes>"
      ]
     },
     "metadata": {
      "needs_background": "light"
     },
     "output_type": "display_data"
    },
    {
     "data": {
      "image/png": "[encoded data removed]",
      "text/plain": [
       "<Figure size 1100x400 with 2 Axes>"
      ]
     },
     "metadata": {
      "needs_background": "light"
     },
     "output_type": "display_data"
    }
   ],
   "source": [
    "titles_options = [(\"Confusion matrix, without normalization\", None),\n",
    "                  (\"Normalized confusion matrix\", 'true')]\n",
    "for title, normalize in titles_options:\n",
    "    disp = plot_confusion_matrix(DT_model, X_test, y_test,\n",
    "                                 cmap=plt.cm.Blues,\n",
    "                                 normalize=normalize)\n",
    "    disp.ax_.set_title(title)\n",
    "\n",
    "    print(title)\n",
    "    print(disp.confusion_matrix)"
   ]
  },
  {
   "cell_type": "markdown",
   "metadata": {},
   "source": [
    "### Support Vector Machine (SVM)"
   ]
  },
  {
   "cell_type": "code",
   "execution_count": 75,
   "metadata": {
    "scrolled": true
   },
   "outputs": [
    {
     "data": {
      "text/plain": [
       "LinearSVC(C=1.0, class_weight=None, dual=True, fit_intercept=True,\n",
       "          intercept_scaling=1, loss='squared_hinge', max_iter=1000,\n",
       "          multi_class='ovr', penalty='l2', random_state=None, tol=0.0001,\n",
       "          verbose=0)"
      ]
     },
     "execution_count": 75,
     "metadata": {},
     "output_type": "execute_result"
    }
   ],
   "source": [
    "from sklearn import svm\n",
    "SVM_model = svm.LinearSVC()\n",
    "SVM_model.fit(X_train, y_train)"
   ]
  },
  {
   "cell_type": "code",
   "execution_count": 76,
   "metadata": {},
   "outputs": [
    {
     "name": "stdout",
     "output_type": "stream",
     "text": [
      "Train set Accuracy:  0.7318355157362738\n",
      "Test set Accuracy:  0.7327985444922263\n",
      "F1-score: 0.70\n",
      "              precision    recall  f1-score   support\n",
      "\n",
      "           1       0.73      0.94      0.82     24117\n",
      "           2       0.73      0.32      0.44     12159\n",
      "\n",
      "    accuracy                           0.73     36276\n",
      "   macro avg       0.73      0.63      0.63     36276\n",
      "weighted avg       0.73      0.73      0.70     36276\n",
      "\n"
     ]
    }
   ],
   "source": [
    "SVM_yhat = SVM_model.predict(X_test)\n",
    "print(\"Train set Accuracy: \", metrics.accuracy_score(y_train, SVM_model.predict(X_train)))\n",
    "print(\"Test set Accuracy: \", metrics.accuracy_score(y_test, SVM_yhat))\n",
    "print(\"F1-score: %.2f\" % f1_score(y_test, SVM_yhat, average='weighted') )\n",
    "print(classification_report(y_test, SVM_yhat))"
   ]
  },
  {
   "cell_type": "code",
   "execution_count": 77,
   "metadata": {},
   "outputs": [
    {
     "name": "stdout",
     "output_type": "stream",
     "text": [
      "Confusion matrix, without normalization\n",
      "[[22712  1405]\n",
      " [ 8288  3871]]\n",
      "Normalized confusion matrix\n",
      "[[0.94174234 0.05825766]\n",
      " [0.681635   0.318365  ]]\n"
     ]
    },
    {
     "data": {
      "image/png": "[encoded data removed]",
      "text/plain": [
       "<Figure size 1100x400 with 2 Axes>"
      ]
     },
     "metadata": {
      "needs_background": "light"
     },
     "output_type": "display_data"
    },
    {
     "data": {
      "image/png": "[encoded data removed]",
      "text/plain": [
       "<Figure size 1100x400 with 2 Axes>"
      ]
     },
     "metadata": {
      "needs_background": "light"
     },
     "output_type": "display_data"
    }
   ],
   "source": [
    "titles_options = [(\"Confusion matrix, without normalization\", None),\n",
    "                  (\"Normalized confusion matrix\", 'true')]\n",
    "for title, normalize in titles_options:\n",
    "    disp = plot_confusion_matrix(SVM_model, X_test, y_test,\n",
    "                                 cmap=plt.cm.Blues,\n",
    "                                 normalize=normalize)\n",
    "    disp.ax_.set_title(title)\n",
    "\n",
    "    print(title)\n",
    "    print(disp.confusion_matrix)"
   ]
  },
  {
   "cell_type": "code",
   "execution_count": null,
   "metadata": {},
   "outputs": [],
   "source": []
  },
  {
   "cell_type": "code",
   "execution_count": null,
   "metadata": {},
   "outputs": [],
   "source": []
  },
  {
   "cell_type": "code",
   "execution_count": null,
   "metadata": {},
   "outputs": [],
   "source": []
  }
 ],
 "metadata": {
  "kernelspec": {
   "display_name": "Python 3",
   "language": "python",
   "name": "python3"
  },
  "language_info": {
   "codemirror_mode": {
    "name": "ipython",
    "version": 3
   },
   "file_extension": ".py",
   "mimetype": "text/x-python",
   "name": "python",
   "nbconvert_exporter": "python",
   "pygments_lexer": "ipython3",
   "version": "3.7.6"
  }
 },
 "nbformat": 4,
 "nbformat_minor": 2
}
